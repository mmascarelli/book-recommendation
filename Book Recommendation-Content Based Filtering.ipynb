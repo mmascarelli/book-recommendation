{
 "cells": [
  {
   "cell_type": "code",
   "execution_count": 1,
   "id": "0e014af9",
   "metadata": {},
   "outputs": [],
   "source": [
    "import pandas as pd\n",
    "import numpy as np\n",
    "\n",
    "import warnings\n",
    "warnings.filterwarnings('ignore')\n",
    "\n",
    "from collections import Counter\n",
    "import nltk\n",
    "import re, string\n",
    "from nltk.stem import WordNetLemmatizer\n",
    "from nltk.corpus import stopwords\n",
    "import contractions\n",
    "\n",
    "from sklearn.feature_extraction.text import TfidfVectorizer\n",
    "from sklearn.metrics.pairwise import cosine_similarity"
   ]
  },
  {
   "cell_type": "markdown",
   "id": "0949fa59",
   "metadata": {},
   "source": [
    "# Dealing with Duplicates"
   ]
  },
  {
   "cell_type": "code",
   "execution_count": 2,
   "id": "03f31321",
   "metadata": {},
   "outputs": [],
   "source": [
    "full_books = pd.read_csv('data/full_df.csv.bz2', compression='bz2')\n",
    "\n",
    "# Drop duplicates based on title and author\n",
    "books = full_books.sort_values(by='ratings_count', ascending=False).drop_duplicates(subset=['title','authors'], keep='first', ignore_index=True)\n",
    "\n",
    "# Drop duplicates based on description\n",
    "dd = books['description'].value_counts().to_frame().query('description > 1').reset_index()\n",
    "dd_indexes = [0,1,2,3,4,5,6,7,8,9,19,11,12,13,15,16,17,20,25,28,32,33,41]\n",
    "books_to_drop = []\n",
    "for i in dd_indexes:\n",
    "    drop = list(books[books['description'] == dd.iloc[i,0]].index)\n",
    "    books_to_drop.append(drop)\n",
    "books_to_drop = [item for sublist in books_to_drop for item in sublist]\n",
    "books = books.drop(books_to_drop).reset_index(drop=True)\n",
    "books = books.sort_values(by='ratings_count', ascending=False).drop_duplicates(subset=['description'], keep='first', ignore_index=True)\n",
    "\n",
    "# Drop boxsets and collections\n",
    "key_words = 'Boxset|boxset|boxed set|Boxed Set|Book Collection|Poems'\n",
    "mask = books['title'].str.contains(pat=key_words, regex=True, case=True, na=False)\n",
    "books = books[~mask].reset_index(drop=True)"
   ]
  },
  {
   "cell_type": "markdown",
   "id": "84217951",
   "metadata": {},
   "source": [
    "# Reducing the size of the Data\n",
    "\n",
    "Because of computational issues, we cannot run cosine similarity on 800,000 books. We will limit this to around 70,000 of the most popular books in our dataset:"
   ]
  },
  {
   "cell_type": "code",
   "execution_count": 13,
   "id": "ad12765d",
   "metadata": {},
   "outputs": [
    {
     "data": {
      "text/html": [
       "<div>\n",
       "<style scoped>\n",
       "    .dataframe tbody tr th:only-of-type {\n",
       "        vertical-align: middle;\n",
       "    }\n",
       "\n",
       "    .dataframe tbody tr th {\n",
       "        vertical-align: top;\n",
       "    }\n",
       "\n",
       "    .dataframe thead th {\n",
       "        text-align: right;\n",
       "    }\n",
       "</style>\n",
       "<table border=\"1\" class=\"dataframe\">\n",
       "  <thead>\n",
       "    <tr style=\"text-align: right;\">\n",
       "      <th></th>\n",
       "      <th>book_id</th>\n",
       "      <th>isbn</th>\n",
       "      <th>author_id</th>\n",
       "      <th>authors</th>\n",
       "      <th>title</th>\n",
       "      <th>description</th>\n",
       "      <th>publisher</th>\n",
       "      <th>genres</th>\n",
       "      <th>avg_rating</th>\n",
       "      <th>ratings_count</th>\n",
       "      <th>num_pages</th>\n",
       "      <th>pub_year</th>\n",
       "      <th>language_code</th>\n",
       "      <th>similar_books</th>\n",
       "      <th>url</th>\n",
       "      <th>cover_image</th>\n",
       "    </tr>\n",
       "  </thead>\n",
       "  <tbody>\n",
       "    <tr>\n",
       "      <th>0</th>\n",
       "      <td>2767052</td>\n",
       "      <td>0439023483</td>\n",
       "      <td>153394</td>\n",
       "      <td>Suzanne Collins</td>\n",
       "      <td>The Hunger Games (The Hunger Games, #1)</td>\n",
       "      <td>Winning will make you famous.\\nLosing means ce...</td>\n",
       "      <td>Scholastic Press</td>\n",
       "      <td>['favorites', 'currently-reading', 'to-read', ...</td>\n",
       "      <td>4.34</td>\n",
       "      <td>4899965</td>\n",
       "      <td>374</td>\n",
       "      <td>2008.0</td>\n",
       "      <td>eng</td>\n",
       "      <td>['1902241', '146499', '954674', '9917938', '10...</td>\n",
       "      <td>https://www.goodreads.com/book/show/2767052-th...</td>\n",
       "      <td>https://images.gr-assets.com/books/1447303603m...</td>\n",
       "    </tr>\n",
       "    <tr>\n",
       "      <th>1</th>\n",
       "      <td>3</td>\n",
       "      <td>0439554934</td>\n",
       "      <td>1077326</td>\n",
       "      <td>J.K. Rowling</td>\n",
       "      <td>Harry Potter and the Sorcerer's Stone (Harry P...</td>\n",
       "      <td>Harry Potter's life is miserable. His parents ...</td>\n",
       "      <td>Scholastic Inc</td>\n",
       "      <td>['to-read', 'favorites', 'fantasy', 'young-adu...</td>\n",
       "      <td>4.45</td>\n",
       "      <td>4765497</td>\n",
       "      <td>320</td>\n",
       "      <td>1997.0</td>\n",
       "      <td>eng</td>\n",
       "      <td>['13830', '127586', '121822', '37586', '616435...</td>\n",
       "      <td>https://www.goodreads.com/book/show/3.Harry_Po...</td>\n",
       "      <td>https://images.gr-assets.com/books/1474154022m...</td>\n",
       "    </tr>\n",
       "    <tr>\n",
       "      <th>2</th>\n",
       "      <td>2657</td>\n",
       "      <td>0061120081</td>\n",
       "      <td>1825</td>\n",
       "      <td>Harper Lee</td>\n",
       "      <td>To Kill a Mockingbird</td>\n",
       "      <td>The unforgettable novel of a childhood in a sl...</td>\n",
       "      <td>Harper Perennial Modern Classics</td>\n",
       "      <td>['to-read', 'favorites', 'classics', 'classic'...</td>\n",
       "      <td>4.26</td>\n",
       "      <td>3255518</td>\n",
       "      <td>324</td>\n",
       "      <td>2006.0</td>\n",
       "      <td>eng</td>\n",
       "      <td>['1934', '2156', '15638', '53835', '77142', '5...</td>\n",
       "      <td>https://www.goodreads.com/book/show/2657.To_Ki...</td>\n",
       "      <td>https://images.gr-assets.com/books/1361975680m...</td>\n",
       "    </tr>\n",
       "  </tbody>\n",
       "</table>\n",
       "</div>"
      ],
      "text/plain": [
       "   book_id        isbn  author_id          authors  \\\n",
       "0  2767052  0439023483     153394  Suzanne Collins   \n",
       "1        3  0439554934    1077326     J.K. Rowling   \n",
       "2     2657  0061120081       1825       Harper Lee   \n",
       "\n",
       "                                               title  \\\n",
       "0            The Hunger Games (The Hunger Games, #1)   \n",
       "1  Harry Potter and the Sorcerer's Stone (Harry P...   \n",
       "2                              To Kill a Mockingbird   \n",
       "\n",
       "                                         description  \\\n",
       "0  Winning will make you famous.\\nLosing means ce...   \n",
       "1  Harry Potter's life is miserable. His parents ...   \n",
       "2  The unforgettable novel of a childhood in a sl...   \n",
       "\n",
       "                          publisher  \\\n",
       "0                  Scholastic Press   \n",
       "1                    Scholastic Inc   \n",
       "2  Harper Perennial Modern Classics   \n",
       "\n",
       "                                              genres  avg_rating  \\\n",
       "0  ['favorites', 'currently-reading', 'to-read', ...        4.34   \n",
       "1  ['to-read', 'favorites', 'fantasy', 'young-adu...        4.45   \n",
       "2  ['to-read', 'favorites', 'classics', 'classic'...        4.26   \n",
       "\n",
       "   ratings_count  num_pages  pub_year language_code  \\\n",
       "0        4899965        374    2008.0           eng   \n",
       "1        4765497        320    1997.0           eng   \n",
       "2        3255518        324    2006.0           eng   \n",
       "\n",
       "                                       similar_books  \\\n",
       "0  ['1902241', '146499', '954674', '9917938', '10...   \n",
       "1  ['13830', '127586', '121822', '37586', '616435...   \n",
       "2  ['1934', '2156', '15638', '53835', '77142', '5...   \n",
       "\n",
       "                                                 url  \\\n",
       "0  https://www.goodreads.com/book/show/2767052-th...   \n",
       "1  https://www.goodreads.com/book/show/3.Harry_Po...   \n",
       "2  https://www.goodreads.com/book/show/2657.To_Ki...   \n",
       "\n",
       "                                         cover_image  \n",
       "0  https://images.gr-assets.com/books/1447303603m...  \n",
       "1  https://images.gr-assets.com/books/1474154022m...  \n",
       "2  https://images.gr-assets.com/books/1361975680m...  "
      ]
     },
     "execution_count": 13,
     "metadata": {},
     "output_type": "execute_result"
    }
   ],
   "source": [
    "books_popular = books.query('ratings_count > 800')\n",
    "books_popular.head(3)"
   ]
  },
  {
   "cell_type": "code",
   "execution_count": 14,
   "id": "4f2ff0a9",
   "metadata": {},
   "outputs": [
    {
     "data": {
      "text/plain": [
       "(68346, 16)"
      ]
     },
     "execution_count": 14,
     "metadata": {},
     "output_type": "execute_result"
    }
   ],
   "source": [
    "books_popular.shape"
   ]
  },
  {
   "cell_type": "code",
   "execution_count": 15,
   "id": "60bc9a0e",
   "metadata": {},
   "outputs": [
    {
     "data": {
      "text/html": [
       "<div>\n",
       "<style scoped>\n",
       "    .dataframe tbody tr th:only-of-type {\n",
       "        vertical-align: middle;\n",
       "    }\n",
       "\n",
       "    .dataframe tbody tr th {\n",
       "        vertical-align: top;\n",
       "    }\n",
       "\n",
       "    .dataframe thead th {\n",
       "        text-align: right;\n",
       "    }\n",
       "</style>\n",
       "<table border=\"1\" class=\"dataframe\">\n",
       "  <thead>\n",
       "    <tr style=\"text-align: right;\">\n",
       "      <th></th>\n",
       "      <th>title</th>\n",
       "      <th>description</th>\n",
       "    </tr>\n",
       "  </thead>\n",
       "  <tbody>\n",
       "    <tr>\n",
       "      <th>0</th>\n",
       "      <td>The Hunger Games (The Hunger Games, #1)</td>\n",
       "      <td>Winning will make you famous.\\nLosing means ce...</td>\n",
       "    </tr>\n",
       "    <tr>\n",
       "      <th>1</th>\n",
       "      <td>Harry Potter and the Sorcerer's Stone (Harry P...</td>\n",
       "      <td>Harry Potter's life is miserable. His parents ...</td>\n",
       "    </tr>\n",
       "    <tr>\n",
       "      <th>2</th>\n",
       "      <td>To Kill a Mockingbird</td>\n",
       "      <td>The unforgettable novel of a childhood in a sl...</td>\n",
       "    </tr>\n",
       "    <tr>\n",
       "      <th>3</th>\n",
       "      <td>The Great Gatsby</td>\n",
       "      <td>THE GREAT GATSBY, F. Scott Fitzgerald's third ...</td>\n",
       "    </tr>\n",
       "    <tr>\n",
       "      <th>4</th>\n",
       "      <td>The Fault in Our Stars</td>\n",
       "      <td>There is an alternate cover edition \u0001.\\n\"I fel...</td>\n",
       "    </tr>\n",
       "  </tbody>\n",
       "</table>\n",
       "</div>"
      ],
      "text/plain": [
       "                                               title  \\\n",
       "0            The Hunger Games (The Hunger Games, #1)   \n",
       "1  Harry Potter and the Sorcerer's Stone (Harry P...   \n",
       "2                              To Kill a Mockingbird   \n",
       "3                                   The Great Gatsby   \n",
       "4                             The Fault in Our Stars   \n",
       "\n",
       "                                         description  \n",
       "0  Winning will make you famous.\\nLosing means ce...  \n",
       "1  Harry Potter's life is miserable. His parents ...  \n",
       "2  The unforgettable novel of a childhood in a sl...  \n",
       "3  THE GREAT GATSBY, F. Scott Fitzgerald's third ...  \n",
       "4  There is an alternate cover edition \u0001.\\n\"I fel...  "
      ]
     },
     "execution_count": 15,
     "metadata": {},
     "output_type": "execute_result"
    }
   ],
   "source": [
    "desc = books_popular[['title','description']]\n",
    "desc.head()"
   ]
  },
  {
   "cell_type": "markdown",
   "id": "2ca77de0",
   "metadata": {},
   "source": [
    "# Cleaning Description Column"
   ]
  },
  {
   "cell_type": "code",
   "execution_count": 16,
   "id": "4c44f81a",
   "metadata": {},
   "outputs": [],
   "source": [
    "#Make everything lowercase\n",
    "desc['description'] = desc['description'].apply(lambda x:' '.join(x.lower() for x in str(x).split()))\n",
    "\n",
    "# Remove contractions\n",
    "desc['description'] = desc['description'].apply(lambda x: contractions.fix(x))\n",
    "\n",
    "# Remove dashes from words\n",
    "desc['description'] = desc['description'].str.replace('-',' ')\n",
    "\n",
    "# Remove any non-alphanumeric characters\n",
    "desc['description']=desc['description'].apply(lambda x: ' '.join([re.sub('[^A-Za-z]+','', x) for x in nltk.word_tokenize(x)]))\n",
    "\n",
    "# Remove any single letters remaining\n",
    "desc['description']=desc['description'].apply(lambda x: ' '.join([x for x in str(x).split() if len(x)>1]))\n",
    "\n",
    "# Remove stopwords\n",
    "stop = stopwords.words(\"english\")\n",
    "desc['description']=desc['description'].apply(lambda x: \" \".join([x for x in x.split() if x not in stop]))"
   ]
  },
  {
   "cell_type": "code",
   "execution_count": 17,
   "id": "e573fa43",
   "metadata": {},
   "outputs": [
    {
     "data": {
      "text/plain": [
       "\"Winning will make you famous.\\nLosing means certain death.\\nThe nation of Panem, formed from a post-apocalyptic North America, is a country that consists of a wealthy Capitol region surrounded by 12 poorer districts. Early in its history, a rebellion led by a 13th district against the Capitol resulted in its destruction and the creation of an annual televised event known as the Hunger Games. In punishment, and as a reminder of the power and grace of the Capitol, each district must yield one boy and one girl between the ages of 12 and 18 through a lottery system to participate in the games. The 'tributes' are chosen during the annual Reaping and are forced to fight to the death, leaving only one survivor to claim victory.\\nWhen 16-year-old Katniss's young sister, Prim, is selected as District 12's female representative, Katniss volunteers to take her place. She and her male counterpart Peeta, are pitted against bigger, stronger representatives, some of whom have trained for this their whole lives. , she sees it as a death sentence. But Katniss has been close to death before. For her, survival is second nature.\""
      ]
     },
     "execution_count": 17,
     "metadata": {},
     "output_type": "execute_result"
    }
   ],
   "source": [
    "# Before Cleaning\n",
    "books_popular['description'][0]"
   ]
  },
  {
   "cell_type": "code",
   "execution_count": 18,
   "id": "13c17a81",
   "metadata": {},
   "outputs": [
    {
     "data": {
      "text/plain": [
       "'winning make famous losing means certain death nation panem formed post apocalyptic north america country consists wealthy capitol region surrounded poorer districts early history rebellion led th district capitol resulted destruction creation annual televised event known hunger games punishment reminder power grace capitol district must yield one boy one girl ages lottery system participate games tributes chosen annual reaping forced fight death leaving one survivor claim victory year old katniss young sister prim selected district female representative katniss volunteers take place male counterpart peeta pitted bigger stronger representatives trained whole lives sees death sentence katniss close death survival second nature'"
      ]
     },
     "execution_count": 18,
     "metadata": {},
     "output_type": "execute_result"
    }
   ],
   "source": [
    "# After Cleaning\n",
    "desc['description'][0]"
   ]
  },
  {
   "cell_type": "code",
   "execution_count": 19,
   "id": "c90f129a",
   "metadata": {},
   "outputs": [
    {
     "data": {
      "text/plain": [
       "(68346, 2)"
      ]
     },
     "execution_count": 19,
     "metadata": {},
     "output_type": "execute_result"
    }
   ],
   "source": [
    "desc.shape"
   ]
  },
  {
   "cell_type": "code",
   "execution_count": null,
   "id": "81dab8a5",
   "metadata": {},
   "outputs": [],
   "source": [
    "desc.to_csv('data/reduced_books_desc.csv', index=False)"
   ]
  },
  {
   "cell_type": "code",
   "execution_count": null,
   "id": "4729708e",
   "metadata": {},
   "outputs": [],
   "source": [
    "#desc = pd.read_csv('data/reduced_books_desc.csv')\n",
    "#desc.dropna(inplace=True)"
   ]
  },
  {
   "cell_type": "markdown",
   "id": "19989a0e",
   "metadata": {},
   "source": [
    "# Vectorizing Description"
   ]
  },
  {
   "cell_type": "code",
   "execution_count": 20,
   "id": "c064feb1",
   "metadata": {
    "scrolled": true
   },
   "outputs": [
    {
     "data": {
      "text/plain": [
       "(68346, 18774)"
      ]
     },
     "execution_count": 20,
     "metadata": {},
     "output_type": "execute_result"
    }
   ],
   "source": [
    "tfidf = TfidfVectorizer(min_df=20, max_df=0.50)\n",
    "tfidf_matrix = tfidf.fit_transform(desc['description'])\n",
    "tfidf_matrix = tfidf_matrix.astype(np.float32)\n",
    "tfidf_matrix.shape"
   ]
  },
  {
   "cell_type": "markdown",
   "id": "d9fee249",
   "metadata": {},
   "source": [
    "# Baseline Recommendation System: Content Based Filtering using Cosine Similarity"
   ]
  },
  {
   "cell_type": "code",
   "execution_count": 21,
   "id": "0663805e",
   "metadata": {},
   "outputs": [],
   "source": [
    "tfidf_matrix = tfidf_matrix.toarray()\n",
    "cos = cosine_similarity(tfidf_matrix, tfidf_matrix)"
   ]
  },
  {
   "cell_type": "code",
   "execution_count": 82,
   "id": "bd366784",
   "metadata": {
    "scrolled": true
   },
   "outputs": [
    {
     "data": {
      "text/plain": [
       "title\n",
       "Under Milk Wood                               19261\n",
       "2 A.M. at The Cat's Pajamas                   18275\n",
       "The Heart Goes Last                            2882\n",
       "The Special Power of Restoring Lost Things    46861\n",
       "Sophie's Heart                                 9267\n",
       "dtype: int64"
      ]
     },
     "execution_count": 82,
     "metadata": {},
     "output_type": "execute_result"
    }
   ],
   "source": [
    "# Saving the indices of book titles, we will need this to retrieve book titles\n",
    "indices = pd.Series(desc.index, index=desc['title'])\n",
    "indices.sample(5)"
   ]
  },
  {
   "cell_type": "code",
   "execution_count": 83,
   "id": "6420e130",
   "metadata": {},
   "outputs": [
    {
     "data": {
      "text/html": [
       "<div>\n",
       "<style scoped>\n",
       "    .dataframe tbody tr th:only-of-type {\n",
       "        vertical-align: middle;\n",
       "    }\n",
       "\n",
       "    .dataframe tbody tr th {\n",
       "        vertical-align: top;\n",
       "    }\n",
       "\n",
       "    .dataframe thead th {\n",
       "        text-align: right;\n",
       "    }\n",
       "</style>\n",
       "<table border=\"1\" class=\"dataframe\">\n",
       "  <thead>\n",
       "    <tr style=\"text-align: right;\">\n",
       "      <th></th>\n",
       "      <th>score</th>\n",
       "    </tr>\n",
       "  </thead>\n",
       "  <tbody>\n",
       "    <tr>\n",
       "      <th>61</th>\n",
       "      <td>1.000000</td>\n",
       "    </tr>\n",
       "    <tr>\n",
       "      <th>36167</th>\n",
       "      <td>0.265128</td>\n",
       "    </tr>\n",
       "    <tr>\n",
       "      <th>21237</th>\n",
       "      <td>0.192767</td>\n",
       "    </tr>\n",
       "    <tr>\n",
       "      <th>43526</th>\n",
       "      <td>0.184216</td>\n",
       "    </tr>\n",
       "    <tr>\n",
       "      <th>7223</th>\n",
       "      <td>0.156825</td>\n",
       "    </tr>\n",
       "    <tr>\n",
       "      <th>28956</th>\n",
       "      <td>0.153965</td>\n",
       "    </tr>\n",
       "    <tr>\n",
       "      <th>68016</th>\n",
       "      <td>0.151153</td>\n",
       "    </tr>\n",
       "    <tr>\n",
       "      <th>43183</th>\n",
       "      <td>0.146880</td>\n",
       "    </tr>\n",
       "    <tr>\n",
       "      <th>24214</th>\n",
       "      <td>0.141233</td>\n",
       "    </tr>\n",
       "    <tr>\n",
       "      <th>39789</th>\n",
       "      <td>0.141217</td>\n",
       "    </tr>\n",
       "    <tr>\n",
       "      <th>59651</th>\n",
       "      <td>0.134449</td>\n",
       "    </tr>\n",
       "  </tbody>\n",
       "</table>\n",
       "</div>"
      ],
      "text/plain": [
       "          score\n",
       "61     1.000000\n",
       "36167  0.265128\n",
       "21237  0.192767\n",
       "43526  0.184216\n",
       "7223   0.156825\n",
       "28956  0.153965\n",
       "68016  0.151153\n",
       "43183  0.146880\n",
       "24214  0.141233\n",
       "39789  0.141217\n",
       "59651  0.134449"
      ]
     },
     "execution_count": 83,
     "metadata": {},
     "output_type": "execute_result"
    }
   ],
   "source": [
    "# Let's try it out on a sample book\n",
    "sample_book = indices['The Shining']\n",
    "similarity_scores = pd.DataFrame(cos[sample_book], columns=[\"score\"]).sort_values(by='score', ascending=False).head(11)\n",
    "similarity_scores"
   ]
  },
  {
   "cell_type": "code",
   "execution_count": 84,
   "id": "8296522c",
   "metadata": {},
   "outputs": [
    {
     "data": {
      "text/html": [
       "<div>\n",
       "<style scoped>\n",
       "    .dataframe tbody tr th:only-of-type {\n",
       "        vertical-align: middle;\n",
       "    }\n",
       "\n",
       "    .dataframe tbody tr th {\n",
       "        vertical-align: top;\n",
       "    }\n",
       "\n",
       "    .dataframe thead th {\n",
       "        text-align: right;\n",
       "    }\n",
       "</style>\n",
       "<table border=\"1\" class=\"dataframe\">\n",
       "  <thead>\n",
       "    <tr style=\"text-align: right;\">\n",
       "      <th></th>\n",
       "      <th>title</th>\n",
       "      <th>description</th>\n",
       "    </tr>\n",
       "  </thead>\n",
       "  <tbody>\n",
       "    <tr>\n",
       "      <th>61</th>\n",
       "      <td>The Shining</td>\n",
       "      <td>Jack Torrance's new job at the Overlook Hotel ...</td>\n",
       "    </tr>\n",
       "    <tr>\n",
       "      <th>36167</th>\n",
       "      <td>The Shining (The Shining, #1)</td>\n",
       "      <td>This tale of a troubled man hired to care for ...</td>\n",
       "    </tr>\n",
       "    <tr>\n",
       "      <th>21237</th>\n",
       "      <td>Hotel Vendome</td>\n",
       "      <td>When Swiss-born Hugues Martin sees a small, ru...</td>\n",
       "    </tr>\n",
       "    <tr>\n",
       "      <th>43526</th>\n",
       "      <td>Hotel Babylon</td>\n",
       "      <td>'Something strange occurs to guests as soon as...</td>\n",
       "    </tr>\n",
       "    <tr>\n",
       "      <th>7223</th>\n",
       "      <td>Carrie / 'Salem's Lot / The Shining</td>\n",
       "      <td>Stephen King is a unique and powerful writer w...</td>\n",
       "    </tr>\n",
       "    <tr>\n",
       "      <th>28956</th>\n",
       "      <td>The Haunted Hotel: A Mystery of Modern Venice</td>\n",
       "      <td>Is there no explanation of the mystery of The ...</td>\n",
       "    </tr>\n",
       "    <tr>\n",
       "      <th>68016</th>\n",
       "      <td>Room with a Clue (Pennyfoot Hotel #1)</td>\n",
       "      <td>Beginning a new series set in a seaside hotel ...</td>\n",
       "    </tr>\n",
       "    <tr>\n",
       "      <th>43183</th>\n",
       "      <td>Hotel Honolulu</td>\n",
       "      <td>Newly married and having recently taken over t...</td>\n",
       "    </tr>\n",
       "    <tr>\n",
       "      <th>24214</th>\n",
       "      <td>A Rule Against Murder (Armand Gamache, #4)</td>\n",
       "      <td>At the Manoir Bellechasse, when a gentile fami...</td>\n",
       "    </tr>\n",
       "    <tr>\n",
       "      <th>39789</th>\n",
       "      <td>Bonechiller</td>\n",
       "      <td>WELCOME TO NOWHERE.\\nDanny's dad takes a job a...</td>\n",
       "    </tr>\n",
       "    <tr>\n",
       "      <th>59651</th>\n",
       "      <td>Evergreen Falls</td>\n",
       "      <td>A long-forgotten secret, a scandalous attracti...</td>\n",
       "    </tr>\n",
       "  </tbody>\n",
       "</table>\n",
       "</div>"
      ],
      "text/plain": [
       "                                               title  \\\n",
       "61                                       The Shining   \n",
       "36167                  The Shining (The Shining, #1)   \n",
       "21237                                  Hotel Vendome   \n",
       "43526                                  Hotel Babylon   \n",
       "7223             Carrie / 'Salem's Lot / The Shining   \n",
       "28956  The Haunted Hotel: A Mystery of Modern Venice   \n",
       "68016          Room with a Clue (Pennyfoot Hotel #1)   \n",
       "43183                                 Hotel Honolulu   \n",
       "24214     A Rule Against Murder (Armand Gamache, #4)   \n",
       "39789                                    Bonechiller   \n",
       "59651                                Evergreen Falls   \n",
       "\n",
       "                                             description  \n",
       "61     Jack Torrance's new job at the Overlook Hotel ...  \n",
       "36167  This tale of a troubled man hired to care for ...  \n",
       "21237  When Swiss-born Hugues Martin sees a small, ru...  \n",
       "43526  'Something strange occurs to guests as soon as...  \n",
       "7223   Stephen King is a unique and powerful writer w...  \n",
       "28956  Is there no explanation of the mystery of The ...  \n",
       "68016  Beginning a new series set in a seaside hotel ...  \n",
       "43183  Newly married and having recently taken over t...  \n",
       "24214  At the Manoir Bellechasse, when a gentile fami...  \n",
       "39789  WELCOME TO NOWHERE.\\nDanny's dad takes a job a...  \n",
       "59651  A long-forgotten secret, a scandalous attracti...  "
      ]
     },
     "execution_count": 84,
     "metadata": {},
     "output_type": "execute_result"
    }
   ],
   "source": [
    "# Now we can retrieve the title and description of the books similar to our sample book\n",
    "\n",
    "similar_movies_indices = list(similarity_scores.index)\n",
    "books_popular[['title','description']].iloc[similar_movies_indices]"
   ]
  },
  {
   "cell_type": "markdown",
   "id": "031a619a",
   "metadata": {},
   "source": [
    "# Checking the Recommendations:"
   ]
  },
  {
   "cell_type": "code",
   "execution_count": 86,
   "id": "3f39f59c",
   "metadata": {},
   "outputs": [
    {
     "data": {
      "text/plain": [
       "\"When Swiss-born Hugues Martin sees a small, run-down hotel in New York for the rough diamond it is, he transforms it into a beautiful boutique hotel of impeccable elegance, run with the precision and attention to detail he learned through his hotelier training in Europe.\\nRenowned for its unparalleled service, the Hotel Vendome soon becomes the ideal New York refuge for the rich and famous, as well as a perfect home for Hugues' beautiful wife and their young daughter. But when his wife tires of his obsession for the hotel, she walks out on him for a notorious rock star, leaving Hugues a single parent to four-year-old Heloise.\\nHeloise and her family live happily amid a colourful, exciting and sometimes mysterious milieu of celebrities, socialites, politicians, world travellers and hotel employees--and their inevitable intrigues.\\nAs unexpected challenges arise, the hotel is the centre of their world. And when Heloise grows us, she longs to follow in her father's footsteps and one day run the Hotel Vendome. The lessons she learned at his side will carry her through it all, in a story no reader will forget.\""
      ]
     },
     "execution_count": 86,
     "metadata": {},
     "output_type": "execute_result"
    }
   ],
   "source": [
    "books_popular['description'].iloc[21237]"
   ]
  },
  {
   "cell_type": "code",
   "execution_count": 87,
   "id": "0c39d68a",
   "metadata": {},
   "outputs": [
    {
     "data": {
      "text/plain": [
       "\"'Something strange occurs to guests as soon as they check in. Even if in real life they are perfectly well-mannered, decent people with proper balanced relationships, as soon as they spin through the revolving hotel doors the normal rules of behaviour no longer seem to apply.'\\nAll of the following is true.Only the names have been changed to protect the guilty. All the anecdotes, the stories, the characters, the situations, the highs, the lows, the scams, the drugs, the misery, the love, the death and the insanity are exactly as was told by Anonymous - someone who has spent his whole career working in hotels at the heart of London's luxury hotel industry. However, for legal reasons, the stories now take place in a fictitious hotel known as Hotel Babylon. More than a decade is compressed into a day. Everything else is as it should be. The rich spend money, the hotel makes money and the chambermaids still fight the bellboys over a two-pound coin.It's just another twenty-four hours in an expensive London hotel.\""
      ]
     },
     "execution_count": 87,
     "metadata": {},
     "output_type": "execute_result"
    }
   ],
   "source": [
    "books_popular['description'].iloc[43526]"
   ]
  },
  {
   "cell_type": "code",
   "execution_count": 88,
   "id": "283d037b",
   "metadata": {},
   "outputs": [
    {
     "data": {
      "text/plain": [
       "\"WELCOME TO NOWHERE.\\nDanny's dad takes a job as caretaker at a marina on the shore of a vast, frozen lake in Harvest Cove, a tiny town tucked away in Canada's Big Empty. If you're looking for somewhere to hide, this is it.\\nIt's the worst winter in years. One night, running in the dark, Danny is attacked by a creature so strange and terrifying he tries to convince himself he was hallucinating. Then he learns about Native American legends of a monster that's haunted the lake for a thousand years. And that every generation, in the coldest winters, kids have disappeared into the night. People think they ran away.\\nDanny knows better. Because now the beast is after him.\""
      ]
     },
     "execution_count": 88,
     "metadata": {},
     "output_type": "execute_result"
    }
   ],
   "source": [
    "books_popular['description'].iloc[39789]"
   ]
  },
  {
   "cell_type": "markdown",
   "id": "eb9485c8",
   "metadata": {},
   "source": [
    "We can see that the recommender is working, but it is giving very naive recommendations. The sample book I chose was 'The Shining', and it is mostly recommending any books that have the word 'hotel' in its description. This is to be expected, since we are only working with descriptions, and not including oher features like genre or user interactions. But this is a solid baseline model!"
   ]
  },
  {
   "cell_type": "code",
   "execution_count": null,
   "id": "173a4724",
   "metadata": {},
   "outputs": [],
   "source": []
  }
 ],
 "metadata": {
  "kernelspec": {
   "display_name": "Python 3 (ipykernel)",
   "language": "python",
   "name": "python3"
  },
  "language_info": {
   "codemirror_mode": {
    "name": "ipython",
    "version": 3
   },
   "file_extension": ".py",
   "mimetype": "text/x-python",
   "name": "python",
   "nbconvert_exporter": "python",
   "pygments_lexer": "ipython3",
   "version": "3.9.7"
  }
 },
 "nbformat": 4,
 "nbformat_minor": 5
}
