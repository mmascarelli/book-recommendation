{
 "cells": [
  {
   "cell_type": "code",
   "execution_count": 1,
   "id": "93f26f13",
   "metadata": {},
   "outputs": [],
   "source": [
    "import json\n",
    "import pandas as pd"
   ]
  },
  {
   "cell_type": "markdown",
   "id": "48606b1c",
   "metadata": {},
   "source": [
    "# Books Data"
   ]
  },
  {
   "cell_type": "markdown",
   "id": "de5b9ecf",
   "metadata": {},
   "source": [
    "### Reading in one line of books.json:"
   ]
  },
  {
   "cell_type": "code",
   "execution_count": 56,
   "id": "240a1146",
   "metadata": {},
   "outputs": [
    {
     "data": {
      "text/plain": [
       "{'isbn': '0312853122',\n",
       " 'text_reviews_count': '1',\n",
       " 'series': [],\n",
       " 'country_code': 'US',\n",
       " 'language_code': '',\n",
       " 'popular_shelves': [{'count': '3', 'name': 'to-read'},\n",
       "  {'count': '1', 'name': 'p'},\n",
       "  {'count': '1', 'name': 'collection'},\n",
       "  {'count': '1', 'name': 'w-c-fields'},\n",
       "  {'count': '1', 'name': 'biography'}],\n",
       " 'asin': '',\n",
       " 'is_ebook': 'false',\n",
       " 'average_rating': '4.00',\n",
       " 'kindle_asin': '',\n",
       " 'similar_books': [],\n",
       " 'description': '',\n",
       " 'format': 'Paperback',\n",
       " 'link': 'https://www.goodreads.com/book/show/5333265-w-c-fields',\n",
       " 'authors': [{'author_id': '604031', 'role': ''}],\n",
       " 'publisher': \"St. Martin's Press\",\n",
       " 'num_pages': '256',\n",
       " 'publication_day': '1',\n",
       " 'isbn13': '9780312853129',\n",
       " 'publication_month': '9',\n",
       " 'edition_information': '',\n",
       " 'publication_year': '1984',\n",
       " 'url': 'https://www.goodreads.com/book/show/5333265-w-c-fields',\n",
       " 'image_url': 'https://images.gr-assets.com/books/1310220028m/5333265.jpg',\n",
       " 'book_id': '5333265',\n",
       " 'ratings_count': '3',\n",
       " 'work_id': '5400751',\n",
       " 'title': 'W.C. Fields: A Life on Film',\n",
       " 'title_without_series': 'W.C. Fields: A Life on Film'}"
      ]
     },
     "execution_count": 56,
     "metadata": {},
     "output_type": "execute_result"
    }
   ],
   "source": [
    "with open(\"goodreads_books.json\") as f:\n",
    "    line = f.readline()\n",
    "    \n",
    "data = json.loads(line)\n",
    "data"
   ]
  },
  {
   "cell_type": "markdown",
   "id": "0093c1f4",
   "metadata": {},
   "source": [
    "### Extract Genre from `popular_shelves` field"
   ]
  },
  {
   "cell_type": "code",
   "execution_count": 57,
   "id": "f4cfff7c",
   "metadata": {},
   "outputs": [
    {
     "data": {
      "text/plain": [
       "['to-read', 'p', 'collection', 'w-c-fields', 'biography']"
      ]
     },
     "execution_count": 57,
     "metadata": {},
     "output_type": "execute_result"
    }
   ],
   "source": [
    "def get_genre(data):\n",
    "    genres = []\n",
    "    for i in range(len(data['popular_shelves'])):\n",
    "        genre = list(data['popular_shelves'][i].values())[1]\n",
    "        genres.append(genre)\n",
    "    return genres\n",
    "\n",
    "get_genre(data)"
   ]
  },
  {
   "cell_type": "markdown",
   "id": "bc1c0463-3e25-4e55-8492-faf62d1d0be2",
   "metadata": {},
   "source": [
    "### Extract `author_id`"
   ]
  },
  {
   "cell_type": "code",
   "execution_count": 58,
   "id": "fb9cd371-fd77-4d71-b947-6b5f335dcacc",
   "metadata": {},
   "outputs": [
    {
     "data": {
      "text/plain": [
       "'604031'"
      ]
     },
     "execution_count": 58,
     "metadata": {},
     "output_type": "execute_result"
    }
   ],
   "source": [
    "def get_author(data):\n",
    "    for i in range(len(data['authors'])):\n",
    "        author = data['authors'][i]['author_id']\n",
    "        return author\n",
    "\n",
    "get_author(data)"
   ]
  },
  {
   "cell_type": "markdown",
   "id": "92f0942d",
   "metadata": {},
   "source": [
    "### Extract fields to set up a pandas DataFrame"
   ]
  },
  {
   "cell_type": "code",
   "execution_count": 59,
   "id": "915d915d",
   "metadata": {},
   "outputs": [],
   "source": [
    "def parse_fields(line):\n",
    "    data = json.loads(line)\n",
    "    return {\n",
    "        \"book_id\": data[\"book_id\"],\n",
    "        \"isbn\" : data['isbn'],\n",
    "        \"author_id\" : get_author(data),\n",
    "        \"publisher\" : data['publisher'],\n",
    "        \"title\": data[\"title_without_series\"],\n",
    "        \"genres\": get_genre(data),\n",
    "        \"description\" :data['description'],\n",
    "        \"avg_rating\" : data['average_rating'],\n",
    "        \"ratings_count\": data[\"ratings_count\"],\n",
    "        \"num_pages\" : data['num_pages'],\n",
    "        \"pub_year\" : data['publication_year'],\n",
    "        'language_code' : data['language_code'],\n",
    "        \"similar_books\" : data['similar_books'],\n",
    "        \"url\": data[\"url\"], \n",
    "        \"cover_image\": data[\"image_url\"]}"
   ]
  },
  {
   "cell_type": "code",
   "execution_count": 60,
   "id": "4707ee32",
   "metadata": {},
   "outputs": [
    {
     "data": {
      "text/plain": [
       "{'book_id': '5333265',\n",
       " 'isbn': '0312853122',\n",
       " 'author_id': '604031',\n",
       " 'publisher': \"St. Martin's Press\",\n",
       " 'title': 'W.C. Fields: A Life on Film',\n",
       " 'genres': ['to-read', 'p', 'collection', 'w-c-fields', 'biography'],\n",
       " 'description': '',\n",
       " 'avg_rating': '4.00',\n",
       " 'ratings_count': '3',\n",
       " 'num_pages': '256',\n",
       " 'pub_year': '1984',\n",
       " 'language_code': '',\n",
       " 'similar_books': [],\n",
       " 'url': 'https://www.goodreads.com/book/show/5333265-w-c-fields',\n",
       " 'cover_image': 'https://images.gr-assets.com/books/1310220028m/5333265.jpg'}"
      ]
     },
     "execution_count": 60,
     "metadata": {},
     "output_type": "execute_result"
    }
   ],
   "source": [
    "# Testing out parse_fields function\n",
    "parse_fields(line)"
   ]
  },
  {
   "cell_type": "code",
   "execution_count": 61,
   "id": "2ab356b9",
   "metadata": {},
   "outputs": [],
   "source": [
    "# Loop through books.json to extract fields of interest\n",
    "books_titles = []\n",
    "\n",
    "with open(\"goodreads_books.json\") as f:\n",
    "    while True:\n",
    "        line = f.readline()\n",
    "        if not line:\n",
    "            break\n",
    "        fields = parse_fields(line)\n",
    "        try:\n",
    "            ratings = int(fields[\"ratings_count\"])\n",
    "        except ValueError:\n",
    "            continue\n",
    "        if ratings > 5:\n",
    "            books_titles.append(fields)"
   ]
  },
  {
   "cell_type": "code",
   "execution_count": 62,
   "id": "2c8d9655",
   "metadata": {},
   "outputs": [],
   "source": [
    "# Create dataframe\n",
    "books = pd.DataFrame.from_dict(books_titles)"
   ]
  },
  {
   "cell_type": "code",
   "execution_count": 63,
   "id": "4bb32293",
   "metadata": {},
   "outputs": [
    {
     "data": {
      "text/html": [
       "<div>\n",
       "<style scoped>\n",
       "    .dataframe tbody tr th:only-of-type {\n",
       "        vertical-align: middle;\n",
       "    }\n",
       "\n",
       "    .dataframe tbody tr th {\n",
       "        vertical-align: top;\n",
       "    }\n",
       "\n",
       "    .dataframe thead th {\n",
       "        text-align: right;\n",
       "    }\n",
       "</style>\n",
       "<table border=\"1\" class=\"dataframe\">\n",
       "  <thead>\n",
       "    <tr style=\"text-align: right;\">\n",
       "      <th></th>\n",
       "      <th>book_id</th>\n",
       "      <th>isbn</th>\n",
       "      <th>author_id</th>\n",
       "      <th>publisher</th>\n",
       "      <th>title</th>\n",
       "      <th>genres</th>\n",
       "      <th>description</th>\n",
       "      <th>avg_rating</th>\n",
       "      <th>ratings_count</th>\n",
       "      <th>num_pages</th>\n",
       "      <th>pub_year</th>\n",
       "      <th>language_code</th>\n",
       "      <th>similar_books</th>\n",
       "      <th>url</th>\n",
       "      <th>cover_image</th>\n",
       "    </tr>\n",
       "  </thead>\n",
       "  <tbody>\n",
       "    <tr>\n",
       "      <th>0</th>\n",
       "      <td>1333909</td>\n",
       "      <td>0743509986</td>\n",
       "      <td>626222</td>\n",
       "      <td>Simon &amp; Schuster Audio</td>\n",
       "      <td>Good Harbor</td>\n",
       "      <td>[to-read, fiction, currently-reading, contempo...</td>\n",
       "      <td>Anita Diamant's international bestseller \"The ...</td>\n",
       "      <td>3.23</td>\n",
       "      <td>10</td>\n",
       "      <td></td>\n",
       "      <td>2001</td>\n",
       "      <td></td>\n",
       "      <td>[8709549, 17074050, 28937, 158816, 228563, 112...</td>\n",
       "      <td>https://www.goodreads.com/book/show/1333909.Go...</td>\n",
       "      <td>https://s.gr-assets.com/assets/nophoto/book/11...</td>\n",
       "    </tr>\n",
       "    <tr>\n",
       "      <th>1</th>\n",
       "      <td>7327624</td>\n",
       "      <td></td>\n",
       "      <td>10333</td>\n",
       "      <td>Nelson Doubleday, Inc.</td>\n",
       "      <td>The Unschooled Wizard (Sun Wolf and Starhawk, ...</td>\n",
       "      <td>[to-read, fantasy, fiction, owned, hardcover, ...</td>\n",
       "      <td>Omnibus book club edition containing the Ladie...</td>\n",
       "      <td>4.03</td>\n",
       "      <td>140</td>\n",
       "      <td>600</td>\n",
       "      <td>1987</td>\n",
       "      <td>eng</td>\n",
       "      <td>[19997, 828466, 1569323, 425389, 1176674, 2627...</td>\n",
       "      <td>https://www.goodreads.com/book/show/7327624-th...</td>\n",
       "      <td>https://images.gr-assets.com/books/1304100136m...</td>\n",
       "    </tr>\n",
       "    <tr>\n",
       "      <th>2</th>\n",
       "      <td>6066819</td>\n",
       "      <td>0743294297</td>\n",
       "      <td>9212</td>\n",
       "      <td>Atria Books</td>\n",
       "      <td>Best Friends Forever</td>\n",
       "      <td>[to-read, chick-lit, currently-reading, fictio...</td>\n",
       "      <td>Addie Downs and Valerie Adler were eight when ...</td>\n",
       "      <td>3.49</td>\n",
       "      <td>51184</td>\n",
       "      <td>368</td>\n",
       "      <td>2009</td>\n",
       "      <td>eng</td>\n",
       "      <td>[6604176, 6054190, 2285777, 82641, 7569453, 70...</td>\n",
       "      <td>https://www.goodreads.com/book/show/6066819-be...</td>\n",
       "      <td>https://s.gr-assets.com/assets/nophoto/book/11...</td>\n",
       "    </tr>\n",
       "    <tr>\n",
       "      <th>3</th>\n",
       "      <td>287140</td>\n",
       "      <td>0850308712</td>\n",
       "      <td>149918</td>\n",
       "      <td></td>\n",
       "      <td>Runic Astrology: Starcraft and Timekeeping in ...</td>\n",
       "      <td>[to-read, runes, owned, nonfiction, kill-it-wi...</td>\n",
       "      <td></td>\n",
       "      <td>3.40</td>\n",
       "      <td>15</td>\n",
       "      <td></td>\n",
       "      <td></td>\n",
       "      <td></td>\n",
       "      <td>[]</td>\n",
       "      <td>https://www.goodreads.com/book/show/287140.Run...</td>\n",
       "      <td>https://images.gr-assets.com/books/1413219371m...</td>\n",
       "    </tr>\n",
       "    <tr>\n",
       "      <th>4</th>\n",
       "      <td>287141</td>\n",
       "      <td>1599150603</td>\n",
       "      <td>3041852</td>\n",
       "      <td>Yesterday's Classics</td>\n",
       "      <td>The Aeneid for Boys and Girls</td>\n",
       "      <td>[to-read, currently-reading, history, classics...</td>\n",
       "      <td>Relates in vigorous prose the tale of Aeneas, ...</td>\n",
       "      <td>4.13</td>\n",
       "      <td>46</td>\n",
       "      <td>162</td>\n",
       "      <td>2006</td>\n",
       "      <td></td>\n",
       "      <td>[]</td>\n",
       "      <td>https://www.goodreads.com/book/show/287141.The...</td>\n",
       "      <td>https://s.gr-assets.com/assets/nophoto/book/11...</td>\n",
       "    </tr>\n",
       "  </tbody>\n",
       "</table>\n",
       "</div>"
      ],
      "text/plain": [
       "   book_id        isbn author_id               publisher  \\\n",
       "0  1333909  0743509986    626222  Simon & Schuster Audio   \n",
       "1  7327624                 10333  Nelson Doubleday, Inc.   \n",
       "2  6066819  0743294297      9212             Atria Books   \n",
       "3   287140  0850308712    149918                           \n",
       "4   287141  1599150603   3041852    Yesterday's Classics   \n",
       "\n",
       "                                               title  \\\n",
       "0                                        Good Harbor   \n",
       "1  The Unschooled Wizard (Sun Wolf and Starhawk, ...   \n",
       "2                               Best Friends Forever   \n",
       "3  Runic Astrology: Starcraft and Timekeeping in ...   \n",
       "4                      The Aeneid for Boys and Girls   \n",
       "\n",
       "                                              genres  \\\n",
       "0  [to-read, fiction, currently-reading, contempo...   \n",
       "1  [to-read, fantasy, fiction, owned, hardcover, ...   \n",
       "2  [to-read, chick-lit, currently-reading, fictio...   \n",
       "3  [to-read, runes, owned, nonfiction, kill-it-wi...   \n",
       "4  [to-read, currently-reading, history, classics...   \n",
       "\n",
       "                                         description avg_rating ratings_count  \\\n",
       "0  Anita Diamant's international bestseller \"The ...       3.23            10   \n",
       "1  Omnibus book club edition containing the Ladie...       4.03           140   \n",
       "2  Addie Downs and Valerie Adler were eight when ...       3.49         51184   \n",
       "3                                                          3.40            15   \n",
       "4  Relates in vigorous prose the tale of Aeneas, ...       4.13            46   \n",
       "\n",
       "  num_pages pub_year language_code  \\\n",
       "0               2001                 \n",
       "1       600     1987           eng   \n",
       "2       368     2009           eng   \n",
       "3                                    \n",
       "4       162     2006                 \n",
       "\n",
       "                                       similar_books  \\\n",
       "0  [8709549, 17074050, 28937, 158816, 228563, 112...   \n",
       "1  [19997, 828466, 1569323, 425389, 1176674, 2627...   \n",
       "2  [6604176, 6054190, 2285777, 82641, 7569453, 70...   \n",
       "3                                                 []   \n",
       "4                                                 []   \n",
       "\n",
       "                                                 url  \\\n",
       "0  https://www.goodreads.com/book/show/1333909.Go...   \n",
       "1  https://www.goodreads.com/book/show/7327624-th...   \n",
       "2  https://www.goodreads.com/book/show/6066819-be...   \n",
       "3  https://www.goodreads.com/book/show/287140.Run...   \n",
       "4  https://www.goodreads.com/book/show/287141.The...   \n",
       "\n",
       "                                         cover_image  \n",
       "0  https://s.gr-assets.com/assets/nophoto/book/11...  \n",
       "1  https://images.gr-assets.com/books/1304100136m...  \n",
       "2  https://s.gr-assets.com/assets/nophoto/book/11...  \n",
       "3  https://images.gr-assets.com/books/1413219371m...  \n",
       "4  https://s.gr-assets.com/assets/nophoto/book/11...  "
      ]
     },
     "execution_count": 63,
     "metadata": {},
     "output_type": "execute_result"
    }
   ],
   "source": [
    "books.head()"
   ]
  },
  {
   "cell_type": "code",
   "execution_count": 64,
   "id": "c00742d3",
   "metadata": {},
   "outputs": [
    {
     "data": {
      "text/plain": [
       "(1782579, 15)"
      ]
     },
     "execution_count": 64,
     "metadata": {},
     "output_type": "execute_result"
    }
   ],
   "source": [
    "books.shape"
   ]
  },
  {
   "cell_type": "code",
   "execution_count": 75,
   "id": "f8fda2dd-7b8e-48ec-afa4-a2187389cb81",
   "metadata": {},
   "outputs": [
    {
     "name": "stdout",
     "output_type": "stream",
     "text": [
      "<class 'pandas.core.frame.DataFrame'>\n",
      "RangeIndex: 1782579 entries, 0 to 1782578\n",
      "Data columns (total 15 columns):\n",
      " #   Column         Dtype   \n",
      "---  ------         -----   \n",
      " 0   book_id        object  \n",
      " 1   isbn           object  \n",
      " 2   author_id      object  \n",
      " 3   publisher      object  \n",
      " 4   title          object  \n",
      " 5   genres         object  \n",
      " 6   description    object  \n",
      " 7   avg_rating     float64 \n",
      " 8   ratings_count  int64   \n",
      " 9   num_pages      int64   \n",
      " 10  pub_year       object  \n",
      " 11  language_code  category\n",
      " 12  similar_books  object  \n",
      " 13  url            object  \n",
      " 14  cover_image    object  \n",
      "dtypes: category(1), float64(1), int64(2), object(11)\n",
      "memory usage: 193.8+ MB\n"
     ]
    }
   ],
   "source": [
    "books.info()"
   ]
  },
  {
   "cell_type": "markdown",
   "id": "3220ea08-9b0a-4e24-b66a-5388cf8265d1",
   "metadata": {},
   "source": [
    "### Change some data types"
   ]
  },
  {
   "cell_type": "code",
   "execution_count": 67,
   "id": "d41d522f-ff9c-41d6-b84a-a209272132b3",
   "metadata": {},
   "outputs": [],
   "source": [
    "books['avg_rating'] = books['avg_rating'].astype(float)\n",
    "books['language_code'] = books['language_code'].astype('category')\n",
    "books['ratings_count'] = books['ratings_count'].astype(int)\n",
    "books['num_pages'] = books['num_pages'].replace('', 0).astype(int)"
   ]
  },
  {
   "cell_type": "markdown",
   "id": "40ac7aa2-5adf-4f31-b658-cf514e94f4de",
   "metadata": {},
   "source": [
    "### Subset the data:\n",
    "\n",
    "* We will only include books with a description available, and that are in english"
   ]
  },
  {
   "cell_type": "code",
   "execution_count": 78,
   "id": "bf625673-13d2-44fc-96ca-52fb3634d93b",
   "metadata": {},
   "outputs": [],
   "source": [
    "books_with_desc = books[books['description'].str.len() > 1].reset_index(drop=True)"
   ]
  },
  {
   "cell_type": "code",
   "execution_count": 79,
   "id": "c566432a-8ee4-4af7-8d8f-d5c9040de49a",
   "metadata": {},
   "outputs": [],
   "source": [
    "books_eng = books_with_desc.query('language_code == \"eng\" or language_code == \"\"').reset_index(drop=True)"
   ]
  },
  {
   "cell_type": "code",
   "execution_count": 81,
   "id": "df765648-ca16-4751-96de-ed0005144786",
   "metadata": {},
   "outputs": [
    {
     "data": {
      "text/plain": [
       "(1115445, 15)"
      ]
     },
     "execution_count": 81,
     "metadata": {},
     "output_type": "execute_result"
    }
   ],
   "source": [
    "books_eng.shape"
   ]
  },
  {
   "cell_type": "code",
   "execution_count": 82,
   "id": "b8e985a5",
   "metadata": {},
   "outputs": [],
   "source": [
    "books_eng.to_csv('books.csv', index=False)"
   ]
  },
  {
   "cell_type": "code",
   "execution_count": null,
   "id": "de0773fb-9482-41ab-98fe-d52ed2cc59ba",
   "metadata": {},
   "outputs": [],
   "source": []
  }
 ],
 "metadata": {
  "kernelspec": {
   "display_name": "Python 3 (ipykernel)",
   "language": "python",
   "name": "python3"
  },
  "language_info": {
   "codemirror_mode": {
    "name": "ipython",
    "version": 3
   },
   "file_extension": ".py",
   "mimetype": "text/x-python",
   "name": "python",
   "nbconvert_exporter": "python",
   "pygments_lexer": "ipython3",
   "version": "3.9.7"
  }
 },
 "nbformat": 4,
 "nbformat_minor": 5
}
