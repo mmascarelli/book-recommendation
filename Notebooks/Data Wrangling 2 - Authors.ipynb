{
 "cells": [
  {
   "cell_type": "code",
   "execution_count": 1,
   "id": "c0885fce-7ea8-4174-81d4-8113041d5c0d",
   "metadata": {},
   "outputs": [],
   "source": [
    "import json\n",
    "import pandas as pd"
   ]
  },
  {
   "cell_type": "markdown",
   "id": "699742c5-eb31-49f1-a2e3-b31cfa50fe22",
   "metadata": {},
   "source": [
    "# Authors Data\n",
    "\n",
    "### Reading in one line of authors.json:"
   ]
  },
  {
   "cell_type": "code",
   "execution_count": 2,
   "id": "932879d3-86bf-455d-b274-9d602b1a9a8c",
   "metadata": {},
   "outputs": [
    {
     "data": {
      "text/plain": [
       "{'average_rating': '3.98',\n",
       " 'author_id': '604031',\n",
       " 'text_reviews_count': '7',\n",
       " 'name': 'Ronald J. Fields',\n",
       " 'ratings_count': '49'}"
      ]
     },
     "execution_count": 2,
     "metadata": {},
     "output_type": "execute_result"
    }
   ],
   "source": [
    "with open(\"goodreads_book_authors.json\") as f:\n",
    "    line = f.readline()\n",
    "    \n",
    "data = json.loads(line)\n",
    "data"
   ]
  },
  {
   "cell_type": "markdown",
   "id": "f0cb9954-3a4e-4ac0-acfa-cb674a446b3a",
   "metadata": {},
   "source": [
    "# Create Function to extract important fields"
   ]
  },
  {
   "cell_type": "code",
   "execution_count": 3,
   "id": "722c57ee-966c-4bbd-a6e4-e52a9581b262",
   "metadata": {},
   "outputs": [],
   "source": [
    "def parse_fields(line):\n",
    "    data = json.loads(line)\n",
    "    return {\n",
    "        \"author_id\": data[\"author_id\"],\n",
    "        \"authors\" : data['name']}"
   ]
  },
  {
   "cell_type": "code",
   "execution_count": 5,
   "id": "58492a1c-ce01-4c25-b142-2c6650eb29ce",
   "metadata": {},
   "outputs": [],
   "source": [
    "author_names = []\n",
    "\n",
    "with open(\"goodreads_book_authors.json\") as f:\n",
    "    while True:\n",
    "        line = f.readline()\n",
    "        if not line:\n",
    "            break\n",
    "        fields = parse_fields(line)\n",
    "        author_names.append(fields)"
   ]
  },
  {
   "cell_type": "markdown",
   "id": "c047afd8-b678-4877-891a-4c4fc86fa8cb",
   "metadata": {},
   "source": [
    "# Convert list of authors to a pandas dataframe"
   ]
  },
  {
   "cell_type": "code",
   "execution_count": 6,
   "id": "b1aba650-4b70-4315-a24a-c30d59536a03",
   "metadata": {},
   "outputs": [],
   "source": [
    "authors = pd.DataFrame.from_dict(author_names)"
   ]
  },
  {
   "cell_type": "code",
   "execution_count": 7,
   "id": "8e56bb54-7b45-447e-bed0-6542d753da59",
   "metadata": {},
   "outputs": [
    {
     "data": {
      "text/html": [
       "<div>\n",
       "<style scoped>\n",
       "    .dataframe tbody tr th:only-of-type {\n",
       "        vertical-align: middle;\n",
       "    }\n",
       "\n",
       "    .dataframe tbody tr th {\n",
       "        vertical-align: top;\n",
       "    }\n",
       "\n",
       "    .dataframe thead th {\n",
       "        text-align: right;\n",
       "    }\n",
       "</style>\n",
       "<table border=\"1\" class=\"dataframe\">\n",
       "  <thead>\n",
       "    <tr style=\"text-align: right;\">\n",
       "      <th></th>\n",
       "      <th>author_id</th>\n",
       "      <th>authors</th>\n",
       "    </tr>\n",
       "  </thead>\n",
       "  <tbody>\n",
       "    <tr>\n",
       "      <th>0</th>\n",
       "      <td>604031</td>\n",
       "      <td>Ronald J. Fields</td>\n",
       "    </tr>\n",
       "    <tr>\n",
       "      <th>1</th>\n",
       "      <td>626222</td>\n",
       "      <td>Anita Diamant</td>\n",
       "    </tr>\n",
       "    <tr>\n",
       "      <th>2</th>\n",
       "      <td>10333</td>\n",
       "      <td>Barbara Hambly</td>\n",
       "    </tr>\n",
       "    <tr>\n",
       "      <th>3</th>\n",
       "      <td>9212</td>\n",
       "      <td>Jennifer Weiner</td>\n",
       "    </tr>\n",
       "    <tr>\n",
       "      <th>4</th>\n",
       "      <td>149918</td>\n",
       "      <td>Nigel Pennick</td>\n",
       "    </tr>\n",
       "  </tbody>\n",
       "</table>\n",
       "</div>"
      ],
      "text/plain": [
       "  author_id           authors\n",
       "0    604031  Ronald J. Fields\n",
       "1    626222     Anita Diamant\n",
       "2     10333    Barbara Hambly\n",
       "3      9212   Jennifer Weiner\n",
       "4    149918     Nigel Pennick"
      ]
     },
     "execution_count": 7,
     "metadata": {},
     "output_type": "execute_result"
    }
   ],
   "source": [
    "authors.head()"
   ]
  },
  {
   "cell_type": "code",
   "execution_count": 8,
   "id": "4f27c425-769a-4cee-90a2-530bbff6d2af",
   "metadata": {},
   "outputs": [
    {
     "data": {
      "text/plain": [
       "(829529, 2)"
      ]
     },
     "execution_count": 8,
     "metadata": {},
     "output_type": "execute_result"
    }
   ],
   "source": [
    "authors.shape"
   ]
  },
  {
   "cell_type": "code",
   "execution_count": 10,
   "id": "ded29a9a-a110-4724-9893-b4b53b2efd20",
   "metadata": {},
   "outputs": [
    {
     "data": {
      "text/plain": [
       "825851"
      ]
     },
     "execution_count": 10,
     "metadata": {},
     "output_type": "execute_result"
    }
   ],
   "source": [
    "authors['authors'].nunique()"
   ]
  },
  {
   "cell_type": "code",
   "execution_count": 11,
   "id": "e1dcfeaf-0762-4bc3-a833-e3444982658d",
   "metadata": {},
   "outputs": [],
   "source": [
    "authors.to_csv('authors.csv')"
   ]
  },
  {
   "cell_type": "code",
   "execution_count": null,
   "id": "9d2f47e0-d58b-46f2-b26a-f4f70f883805",
   "metadata": {},
   "outputs": [],
   "source": []
  }
 ],
 "metadata": {
  "kernelspec": {
   "display_name": "Python 3 (ipykernel)",
   "language": "python",
   "name": "python3"
  },
  "language_info": {
   "codemirror_mode": {
    "name": "ipython",
    "version": 3
   },
   "file_extension": ".py",
   "mimetype": "text/x-python",
   "name": "python",
   "nbconvert_exporter": "python",
   "pygments_lexer": "ipython3",
   "version": "3.9.7"
  }
 },
 "nbformat": 4,
 "nbformat_minor": 5
}
