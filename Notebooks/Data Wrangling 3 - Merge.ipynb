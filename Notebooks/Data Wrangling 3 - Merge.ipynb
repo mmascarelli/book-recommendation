{
 "cells": [
  {
   "cell_type": "code",
   "execution_count": 1,
   "id": "a953983e-3cf2-4456-a964-e05c526e1250",
   "metadata": {},
   "outputs": [],
   "source": [
    "import pandas as pd\n",
    "import json"
   ]
  },
  {
   "cell_type": "markdown",
   "id": "f02f2204-3e52-475c-a83d-455f43f7f0a1",
   "metadata": {},
   "source": [
    "# Merging Books and Authors data"
   ]
  },
  {
   "cell_type": "code",
   "execution_count": 2,
   "id": "370e7420-c6b6-4499-98e1-cab71a7b7a2a",
   "metadata": {},
   "outputs": [],
   "source": [
    "books = pd.read_csv('books.csv')\n",
    "\n",
    "authors = pd.read_csv('authors.csv')\n",
    "authors = authors.drop('Unnamed: 0', axis=1)"
   ]
  },
  {
   "cell_type": "code",
   "execution_count": 3,
   "id": "f7b20618-6bb9-4dd7-933a-569710d019b4",
   "metadata": {},
   "outputs": [
    {
     "data": {
      "text/html": [
       "<div>\n",
       "<style scoped>\n",
       "    .dataframe tbody tr th:only-of-type {\n",
       "        vertical-align: middle;\n",
       "    }\n",
       "\n",
       "    .dataframe tbody tr th {\n",
       "        vertical-align: top;\n",
       "    }\n",
       "\n",
       "    .dataframe thead th {\n",
       "        text-align: right;\n",
       "    }\n",
       "</style>\n",
       "<table border=\"1\" class=\"dataframe\">\n",
       "  <thead>\n",
       "    <tr style=\"text-align: right;\">\n",
       "      <th></th>\n",
       "      <th>book_id</th>\n",
       "      <th>isbn</th>\n",
       "      <th>author_id</th>\n",
       "      <th>publisher</th>\n",
       "      <th>title</th>\n",
       "      <th>genres</th>\n",
       "      <th>description</th>\n",
       "      <th>avg_rating</th>\n",
       "      <th>ratings_count</th>\n",
       "      <th>num_pages</th>\n",
       "      <th>pub_year</th>\n",
       "      <th>language_code</th>\n",
       "      <th>similar_books</th>\n",
       "      <th>url</th>\n",
       "      <th>cover_image</th>\n",
       "    </tr>\n",
       "  </thead>\n",
       "  <tbody>\n",
       "    <tr>\n",
       "      <th>0</th>\n",
       "      <td>1333909</td>\n",
       "      <td>0743509986</td>\n",
       "      <td>626222.0</td>\n",
       "      <td>Simon &amp; Schuster Audio</td>\n",
       "      <td>Good Harbor</td>\n",
       "      <td>['to-read', 'fiction', 'currently-reading', 'c...</td>\n",
       "      <td>Anita Diamant's international bestseller \"The ...</td>\n",
       "      <td>3.23</td>\n",
       "      <td>10</td>\n",
       "      <td>0</td>\n",
       "      <td>2001.0</td>\n",
       "      <td>NaN</td>\n",
       "      <td>['8709549', '17074050', '28937', '158816', '22...</td>\n",
       "      <td>https://www.goodreads.com/book/show/1333909.Go...</td>\n",
       "      <td>https://s.gr-assets.com/assets/nophoto/book/11...</td>\n",
       "    </tr>\n",
       "    <tr>\n",
       "      <th>1</th>\n",
       "      <td>7327624</td>\n",
       "      <td>NaN</td>\n",
       "      <td>10333.0</td>\n",
       "      <td>Nelson Doubleday, Inc.</td>\n",
       "      <td>The Unschooled Wizard (Sun Wolf and Starhawk, ...</td>\n",
       "      <td>['to-read', 'fantasy', 'fiction', 'owned', 'ha...</td>\n",
       "      <td>Omnibus book club edition containing the Ladie...</td>\n",
       "      <td>4.03</td>\n",
       "      <td>140</td>\n",
       "      <td>600</td>\n",
       "      <td>1987.0</td>\n",
       "      <td>eng</td>\n",
       "      <td>['19997', '828466', '1569323', '425389', '1176...</td>\n",
       "      <td>https://www.goodreads.com/book/show/7327624-th...</td>\n",
       "      <td>https://images.gr-assets.com/books/1304100136m...</td>\n",
       "    </tr>\n",
       "  </tbody>\n",
       "</table>\n",
       "</div>"
      ],
      "text/plain": [
       "   book_id        isbn  author_id               publisher  \\\n",
       "0  1333909  0743509986   626222.0  Simon & Schuster Audio   \n",
       "1  7327624         NaN    10333.0  Nelson Doubleday, Inc.   \n",
       "\n",
       "                                               title  \\\n",
       "0                                        Good Harbor   \n",
       "1  The Unschooled Wizard (Sun Wolf and Starhawk, ...   \n",
       "\n",
       "                                              genres  \\\n",
       "0  ['to-read', 'fiction', 'currently-reading', 'c...   \n",
       "1  ['to-read', 'fantasy', 'fiction', 'owned', 'ha...   \n",
       "\n",
       "                                         description  avg_rating  \\\n",
       "0  Anita Diamant's international bestseller \"The ...        3.23   \n",
       "1  Omnibus book club edition containing the Ladie...        4.03   \n",
       "\n",
       "   ratings_count  num_pages  pub_year language_code  \\\n",
       "0             10          0    2001.0           NaN   \n",
       "1            140        600    1987.0           eng   \n",
       "\n",
       "                                       similar_books  \\\n",
       "0  ['8709549', '17074050', '28937', '158816', '22...   \n",
       "1  ['19997', '828466', '1569323', '425389', '1176...   \n",
       "\n",
       "                                                 url  \\\n",
       "0  https://www.goodreads.com/book/show/1333909.Go...   \n",
       "1  https://www.goodreads.com/book/show/7327624-th...   \n",
       "\n",
       "                                         cover_image  \n",
       "0  https://s.gr-assets.com/assets/nophoto/book/11...  \n",
       "1  https://images.gr-assets.com/books/1304100136m...  "
      ]
     },
     "execution_count": 3,
     "metadata": {},
     "output_type": "execute_result"
    }
   ],
   "source": [
    "books.head(2)"
   ]
  },
  {
   "cell_type": "code",
   "execution_count": 8,
   "id": "63faa325-0d00-4d7e-b2c4-7ac0aaa17619",
   "metadata": {},
   "outputs": [
    {
     "data": {
      "text/html": [
       "<div>\n",
       "<style scoped>\n",
       "    .dataframe tbody tr th:only-of-type {\n",
       "        vertical-align: middle;\n",
       "    }\n",
       "\n",
       "    .dataframe tbody tr th {\n",
       "        vertical-align: top;\n",
       "    }\n",
       "\n",
       "    .dataframe thead th {\n",
       "        text-align: right;\n",
       "    }\n",
       "</style>\n",
       "<table border=\"1\" class=\"dataframe\">\n",
       "  <thead>\n",
       "    <tr style=\"text-align: right;\">\n",
       "      <th></th>\n",
       "      <th>author_id</th>\n",
       "      <th>authors</th>\n",
       "    </tr>\n",
       "  </thead>\n",
       "  <tbody>\n",
       "    <tr>\n",
       "      <th>0</th>\n",
       "      <td>604031</td>\n",
       "      <td>Ronald J. Fields</td>\n",
       "    </tr>\n",
       "    <tr>\n",
       "      <th>1</th>\n",
       "      <td>626222</td>\n",
       "      <td>Anita Diamant</td>\n",
       "    </tr>\n",
       "  </tbody>\n",
       "</table>\n",
       "</div>"
      ],
      "text/plain": [
       "   author_id           authors\n",
       "0     604031  Ronald J. Fields\n",
       "1     626222     Anita Diamant"
      ]
     },
     "execution_count": 8,
     "metadata": {},
     "output_type": "execute_result"
    }
   ],
   "source": [
    "authors.head(2)"
   ]
  },
  {
   "cell_type": "code",
   "execution_count": 13,
   "id": "4b5a8120-6d7b-459a-9618-1a5e36305364",
   "metadata": {},
   "outputs": [
    {
     "name": "stdout",
     "output_type": "stream",
     "text": [
      "<class 'pandas.core.frame.DataFrame'>\n",
      "RangeIndex: 1115445 entries, 0 to 1115444\n",
      "Data columns (total 15 columns):\n",
      " #   Column         Non-Null Count    Dtype  \n",
      "---  ------         --------------    -----  \n",
      " 0   book_id        1115445 non-null  int64  \n",
      " 1   isbn           760981 non-null   object \n",
      " 2   author_id      1115445 non-null  int64  \n",
      " 3   publisher      863332 non-null   object \n",
      " 4   title          1115442 non-null  object \n",
      " 5   genres         1115445 non-null  object \n",
      " 6   description    1115435 non-null  object \n",
      " 7   avg_rating     1115445 non-null  float64\n",
      " 8   ratings_count  1115445 non-null  int64  \n",
      " 9   num_pages      1115445 non-null  int64  \n",
      " 10  pub_year       896977 non-null   float64\n",
      " 11  language_code  522531 non-null   object \n",
      " 12  similar_books  1115445 non-null  object \n",
      " 13  url            1115445 non-null  object \n",
      " 14  cover_image    1115445 non-null  object \n",
      "dtypes: float64(2), int64(4), object(9)\n",
      "memory usage: 127.7+ MB\n"
     ]
    }
   ],
   "source": [
    "books.info()"
   ]
  },
  {
   "cell_type": "code",
   "execution_count": 9,
   "id": "23e95fd1-760c-433d-8f7d-7259eb699416",
   "metadata": {},
   "outputs": [
    {
     "name": "stdout",
     "output_type": "stream",
     "text": [
      "<class 'pandas.core.frame.DataFrame'>\n",
      "RangeIndex: 829529 entries, 0 to 829528\n",
      "Data columns (total 2 columns):\n",
      " #   Column     Non-Null Count   Dtype \n",
      "---  ------     --------------   ----- \n",
      " 0   author_id  829529 non-null  int64 \n",
      " 1   authors    829524 non-null  object\n",
      "dtypes: int64(1), object(1)\n",
      "memory usage: 12.7+ MB\n"
     ]
    }
   ],
   "source": [
    "authors.info()"
   ]
  },
  {
   "cell_type": "code",
   "execution_count": 12,
   "id": "3f08cb23-8e66-473d-8236-cea3f411de7a",
   "metadata": {},
   "outputs": [],
   "source": [
    "books['author_id'] = books['author_id'].fillna(0).astype(int)"
   ]
  },
  {
   "cell_type": "code",
   "execution_count": 15,
   "id": "d7ee3594-e85b-4b06-9f1b-8fd850b9f6b2",
   "metadata": {},
   "outputs": [],
   "source": [
    "books_author = books.merge(authors, on='author_id', how='left')"
   ]
  },
  {
   "cell_type": "code",
   "execution_count": 16,
   "id": "4c34e017-b407-4784-9158-521bc73bec34",
   "metadata": {},
   "outputs": [
    {
     "data": {
      "text/plain": [
       "Index(['book_id', 'isbn', 'author_id', 'publisher', 'title', 'genres',\n",
       "       'description', 'avg_rating', 'ratings_count', 'num_pages', 'pub_year',\n",
       "       'language_code', 'similar_books', 'url', 'cover_image', 'authors'],\n",
       "      dtype='object')"
      ]
     },
     "execution_count": 16,
     "metadata": {},
     "output_type": "execute_result"
    }
   ],
   "source": [
    "books_author.columns"
   ]
  },
  {
   "cell_type": "code",
   "execution_count": 17,
   "id": "d3d9f7b3-d045-461b-adfc-7cfde2b875b6",
   "metadata": {},
   "outputs": [
    {
     "data": {
      "text/html": [
       "<div>\n",
       "<style scoped>\n",
       "    .dataframe tbody tr th:only-of-type {\n",
       "        vertical-align: middle;\n",
       "    }\n",
       "\n",
       "    .dataframe tbody tr th {\n",
       "        vertical-align: top;\n",
       "    }\n",
       "\n",
       "    .dataframe thead th {\n",
       "        text-align: right;\n",
       "    }\n",
       "</style>\n",
       "<table border=\"1\" class=\"dataframe\">\n",
       "  <thead>\n",
       "    <tr style=\"text-align: right;\">\n",
       "      <th></th>\n",
       "      <th>book_id</th>\n",
       "      <th>isbn</th>\n",
       "      <th>author_id</th>\n",
       "      <th>authors</th>\n",
       "      <th>title</th>\n",
       "      <th>description</th>\n",
       "      <th>publisher</th>\n",
       "      <th>genres</th>\n",
       "      <th>avg_rating</th>\n",
       "      <th>ratings_count</th>\n",
       "      <th>num_pages</th>\n",
       "      <th>pub_year</th>\n",
       "      <th>language_code</th>\n",
       "      <th>similar_books</th>\n",
       "      <th>url</th>\n",
       "      <th>cover_image</th>\n",
       "    </tr>\n",
       "  </thead>\n",
       "  <tbody>\n",
       "    <tr>\n",
       "      <th>0</th>\n",
       "      <td>1333909</td>\n",
       "      <td>0743509986</td>\n",
       "      <td>626222</td>\n",
       "      <td>Anita Diamant</td>\n",
       "      <td>Good Harbor</td>\n",
       "      <td>Anita Diamant's international bestseller \"The ...</td>\n",
       "      <td>Simon &amp; Schuster Audio</td>\n",
       "      <td>['to-read', 'fiction', 'currently-reading', 'c...</td>\n",
       "      <td>3.23</td>\n",
       "      <td>10</td>\n",
       "      <td>0</td>\n",
       "      <td>2001.0</td>\n",
       "      <td>NaN</td>\n",
       "      <td>['8709549', '17074050', '28937', '158816', '22...</td>\n",
       "      <td>https://www.goodreads.com/book/show/1333909.Go...</td>\n",
       "      <td>https://s.gr-assets.com/assets/nophoto/book/11...</td>\n",
       "    </tr>\n",
       "    <tr>\n",
       "      <th>1</th>\n",
       "      <td>7327624</td>\n",
       "      <td>NaN</td>\n",
       "      <td>10333</td>\n",
       "      <td>Barbara Hambly</td>\n",
       "      <td>The Unschooled Wizard (Sun Wolf and Starhawk, ...</td>\n",
       "      <td>Omnibus book club edition containing the Ladie...</td>\n",
       "      <td>Nelson Doubleday, Inc.</td>\n",
       "      <td>['to-read', 'fantasy', 'fiction', 'owned', 'ha...</td>\n",
       "      <td>4.03</td>\n",
       "      <td>140</td>\n",
       "      <td>600</td>\n",
       "      <td>1987.0</td>\n",
       "      <td>eng</td>\n",
       "      <td>['19997', '828466', '1569323', '425389', '1176...</td>\n",
       "      <td>https://www.goodreads.com/book/show/7327624-th...</td>\n",
       "      <td>https://images.gr-assets.com/books/1304100136m...</td>\n",
       "    </tr>\n",
       "    <tr>\n",
       "      <th>2</th>\n",
       "      <td>6066819</td>\n",
       "      <td>0743294297</td>\n",
       "      <td>9212</td>\n",
       "      <td>Jennifer Weiner</td>\n",
       "      <td>Best Friends Forever</td>\n",
       "      <td>Addie Downs and Valerie Adler were eight when ...</td>\n",
       "      <td>Atria Books</td>\n",
       "      <td>['to-read', 'chick-lit', 'currently-reading', ...</td>\n",
       "      <td>3.49</td>\n",
       "      <td>51184</td>\n",
       "      <td>368</td>\n",
       "      <td>2009.0</td>\n",
       "      <td>eng</td>\n",
       "      <td>['6604176', '6054190', '2285777', '82641', '75...</td>\n",
       "      <td>https://www.goodreads.com/book/show/6066819-be...</td>\n",
       "      <td>https://s.gr-assets.com/assets/nophoto/book/11...</td>\n",
       "    </tr>\n",
       "  </tbody>\n",
       "</table>\n",
       "</div>"
      ],
      "text/plain": [
       "   book_id        isbn  author_id          authors  \\\n",
       "0  1333909  0743509986     626222    Anita Diamant   \n",
       "1  7327624         NaN      10333   Barbara Hambly   \n",
       "2  6066819  0743294297       9212  Jennifer Weiner   \n",
       "\n",
       "                                               title  \\\n",
       "0                                        Good Harbor   \n",
       "1  The Unschooled Wizard (Sun Wolf and Starhawk, ...   \n",
       "2                               Best Friends Forever   \n",
       "\n",
       "                                         description               publisher  \\\n",
       "0  Anita Diamant's international bestseller \"The ...  Simon & Schuster Audio   \n",
       "1  Omnibus book club edition containing the Ladie...  Nelson Doubleday, Inc.   \n",
       "2  Addie Downs and Valerie Adler were eight when ...             Atria Books   \n",
       "\n",
       "                                              genres  avg_rating  \\\n",
       "0  ['to-read', 'fiction', 'currently-reading', 'c...        3.23   \n",
       "1  ['to-read', 'fantasy', 'fiction', 'owned', 'ha...        4.03   \n",
       "2  ['to-read', 'chick-lit', 'currently-reading', ...        3.49   \n",
       "\n",
       "   ratings_count  num_pages  pub_year language_code  \\\n",
       "0             10          0    2001.0           NaN   \n",
       "1            140        600    1987.0           eng   \n",
       "2          51184        368    2009.0           eng   \n",
       "\n",
       "                                       similar_books  \\\n",
       "0  ['8709549', '17074050', '28937', '158816', '22...   \n",
       "1  ['19997', '828466', '1569323', '425389', '1176...   \n",
       "2  ['6604176', '6054190', '2285777', '82641', '75...   \n",
       "\n",
       "                                                 url  \\\n",
       "0  https://www.goodreads.com/book/show/1333909.Go...   \n",
       "1  https://www.goodreads.com/book/show/7327624-th...   \n",
       "2  https://www.goodreads.com/book/show/6066819-be...   \n",
       "\n",
       "                                         cover_image  \n",
       "0  https://s.gr-assets.com/assets/nophoto/book/11...  \n",
       "1  https://images.gr-assets.com/books/1304100136m...  \n",
       "2  https://s.gr-assets.com/assets/nophoto/book/11...  "
      ]
     },
     "execution_count": 17,
     "metadata": {},
     "output_type": "execute_result"
    }
   ],
   "source": [
    "columns_list = ['book_id', 'isbn', 'author_id','authors','title','description', 'publisher', 'genres',\n",
    "        'avg_rating', 'ratings_count', 'num_pages', 'pub_year',\n",
    "       'language_code', 'similar_books', 'url', 'cover_image']\n",
    "\n",
    "books_author = books_author[columns_list]\n",
    "books_author.head(3)"
   ]
  },
  {
   "cell_type": "code",
   "execution_count": 21,
   "id": "2b7c6294-d291-4549-ba92-732972ab9e73",
   "metadata": {},
   "outputs": [],
   "source": [
    "books_author.to_csv('full_df.csv.bz2', compression='bz2', index=False)"
   ]
  },
  {
   "cell_type": "code",
   "execution_count": null,
   "id": "aa045740-a6c9-4bd0-8d42-97979ebaac2e",
   "metadata": {},
   "outputs": [],
   "source": []
  }
 ],
 "metadata": {
  "kernelspec": {
   "display_name": "Python 3 (ipykernel)",
   "language": "python",
   "name": "python3"
  },
  "language_info": {
   "codemirror_mode": {
    "name": "ipython",
    "version": 3
   },
   "file_extension": ".py",
   "mimetype": "text/x-python",
   "name": "python",
   "nbconvert_exporter": "python",
   "pygments_lexer": "ipython3",
   "version": "3.9.7"
  }
 },
 "nbformat": 4,
 "nbformat_minor": 5
}
