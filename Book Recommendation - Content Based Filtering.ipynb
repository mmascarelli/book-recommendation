{
 "cells": [
  {
   "cell_type": "code",
   "execution_count": 1,
   "id": "d69eb085",
   "metadata": {},
   "outputs": [],
   "source": [
    "import pandas as pd\n",
    "import numpy as np\n",
    "import gzip\n",
    "import json\n",
    "import warnings\n",
    "warnings.filterwarnings('ignore')\n",
    "\n",
    "from collections import Counter\n",
    "import nltk\n",
    "import re, string\n",
    "from nltk.stem import WordNetLemmatizer\n",
    "from nltk.corpus import stopwords\n",
    "import contractions\n",
    "\n",
    "from sklearn.feature_extraction.text import TfidfVectorizer\n",
    "from sklearn.metrics.pairwise import cosine_similarity"
   ]
  },
  {
   "cell_type": "markdown",
   "id": "22ffe066",
   "metadata": {},
   "source": [
    "# 1. Getting the Data"
   ]
  },
  {
   "cell_type": "code",
   "execution_count": 2,
   "id": "e4693298",
   "metadata": {},
   "outputs": [],
   "source": [
    "# Function to extract author name (if needed)\n",
    "def get_author(data):\n",
    "    for i in range(len(data['authors'])):\n",
    "        author = data['authors'][i]['author_id']\n",
    "        return author\n",
    "\n",
    "# Function to extract genre keywords from ppopular shelves\n",
    "def get_genre(data):\n",
    "    genres = []\n",
    "    for i in range(len(data['popular_shelves'])):\n",
    "        genre = list(data['popular_shelves'][i].values())[1]\n",
    "        genres.append(genre)\n",
    "    return genres\n",
    "\n",
    "# Function to extract fields that we want in our dataframe\n",
    "def parse_fields(line):\n",
    "    data = json.loads(line)\n",
    "    return {\n",
    "        \"book_id\": data[\"book_id\"],\n",
    "        'author_id' : get_author(data),\n",
    "        'title': data['title_without_series'],\n",
    "        'description': data['description'],\n",
    "        'reviews_count': data['text_reviews_count'],\n",
    "        'avg_rating' :data['average_rating'],\n",
    "        'ratings_count' : data['ratings_count'],\n",
    "        \"popular_shelves\" : data['popular_shelves'],\n",
    "        'keywords' : get_genre(data),\n",
    "        'language':data['language_code'],\n",
    "    }\n"
   ]
  },
  {
   "cell_type": "code",
   "execution_count": 3,
   "id": "25d6667e",
   "metadata": {},
   "outputs": [],
   "source": [
    "# Loop through json and use parse_fields() function for each book\n",
    "books_list = []\n",
    "\n",
    "with gzip.open(\"data/goodreads_books_fantasy_paranormal.json.gz\") as f:\n",
    "    while True:\n",
    "        line = f.readline()\n",
    "        if not line:\n",
    "            break\n",
    "        fields = parse_fields(line)\n",
    "        books_list.append(fields)"
   ]
  },
  {
   "cell_type": "code",
   "execution_count": 4,
   "id": "893a0163",
   "metadata": {},
   "outputs": [
    {
     "name": "stdout",
     "output_type": "stream",
     "text": [
      "(258585, 10)\n"
     ]
    },
    {
     "data": {
      "text/html": [
       "<div>\n",
       "<style scoped>\n",
       "    .dataframe tbody tr th:only-of-type {\n",
       "        vertical-align: middle;\n",
       "    }\n",
       "\n",
       "    .dataframe tbody tr th {\n",
       "        vertical-align: top;\n",
       "    }\n",
       "\n",
       "    .dataframe thead th {\n",
       "        text-align: right;\n",
       "    }\n",
       "</style>\n",
       "<table border=\"1\" class=\"dataframe\">\n",
       "  <thead>\n",
       "    <tr style=\"text-align: right;\">\n",
       "      <th></th>\n",
       "      <th>book_id</th>\n",
       "      <th>author_id</th>\n",
       "      <th>title</th>\n",
       "      <th>description</th>\n",
       "      <th>reviews_count</th>\n",
       "      <th>avg_rating</th>\n",
       "      <th>ratings_count</th>\n",
       "      <th>popular_shelves</th>\n",
       "      <th>keywords</th>\n",
       "      <th>language</th>\n",
       "    </tr>\n",
       "  </thead>\n",
       "  <tbody>\n",
       "    <tr>\n",
       "      <th>0</th>\n",
       "      <td>7327624</td>\n",
       "      <td>10333</td>\n",
       "      <td>The Unschooled Wizard (Sun Wolf and Starhawk, ...</td>\n",
       "      <td>Omnibus book club edition containing the Ladie...</td>\n",
       "      <td>7</td>\n",
       "      <td>4.03</td>\n",
       "      <td>140</td>\n",
       "      <td>[{'count': '58', 'name': 'to-read'}, {'count':...</td>\n",
       "      <td>[to-read, fantasy, fiction, owned, hardcover, ...</td>\n",
       "      <td>eng</td>\n",
       "    </tr>\n",
       "    <tr>\n",
       "      <th>1</th>\n",
       "      <td>6066812</td>\n",
       "      <td>19158</td>\n",
       "      <td>All's Fairy in Love and War (Avalon: Web of Ma...</td>\n",
       "      <td>To Kara's astonishment, she discovers that a p...</td>\n",
       "      <td>6</td>\n",
       "      <td>4.22</td>\n",
       "      <td>98</td>\n",
       "      <td>[{'count': '515', 'name': 'to-read'}, {'count'...</td>\n",
       "      <td>[to-read, fantasy, owned, books-i-own, current...</td>\n",
       "      <td></td>\n",
       "    </tr>\n",
       "    <tr>\n",
       "      <th>2</th>\n",
       "      <td>33394837</td>\n",
       "      <td>242185</td>\n",
       "      <td>The House of Memory (Pluto's Snitch #2)</td>\n",
       "      <td></td>\n",
       "      <td>60</td>\n",
       "      <td>4.33</td>\n",
       "      <td>269</td>\n",
       "      <td>[{'count': '54', 'name': 'currently-reading'},...</td>\n",
       "      <td>[currently-reading, netgalley, kindle, read-20...</td>\n",
       "      <td>eng</td>\n",
       "    </tr>\n",
       "    <tr>\n",
       "      <th>3</th>\n",
       "      <td>12182387</td>\n",
       "      <td>50873</td>\n",
       "      <td>The Passion (Dark Visions, #3)</td>\n",
       "      <td>This is the final tale in the bestselling auth...</td>\n",
       "      <td>1</td>\n",
       "      <td>4.04</td>\n",
       "      <td>4</td>\n",
       "      <td>[{'count': '1057', 'name': 'to-read'}, {'count...</td>\n",
       "      <td>[to-read, young-adult, ya, paranormal, fantasy...</td>\n",
       "      <td></td>\n",
       "    </tr>\n",
       "    <tr>\n",
       "      <th>4</th>\n",
       "      <td>29074693</td>\n",
       "      <td>5360266</td>\n",
       "      <td>Prowled Darkness (Dante's Circle, #7)</td>\n",
       "      <td></td>\n",
       "      <td>21</td>\n",
       "      <td>4.23</td>\n",
       "      <td>149</td>\n",
       "      <td>[{'count': '598', 'name': 'to-read'}, {'count'...</td>\n",
       "      <td>[to-read, currently-reading, paranormal, shift...</td>\n",
       "      <td>en-US</td>\n",
       "    </tr>\n",
       "  </tbody>\n",
       "</table>\n",
       "</div>"
      ],
      "text/plain": [
       "    book_id author_id                                              title  \\\n",
       "0   7327624     10333  The Unschooled Wizard (Sun Wolf and Starhawk, ...   \n",
       "1   6066812     19158  All's Fairy in Love and War (Avalon: Web of Ma...   \n",
       "2  33394837    242185            The House of Memory (Pluto's Snitch #2)   \n",
       "3  12182387     50873                     The Passion (Dark Visions, #3)   \n",
       "4  29074693   5360266              Prowled Darkness (Dante's Circle, #7)   \n",
       "\n",
       "                                         description reviews_count avg_rating  \\\n",
       "0  Omnibus book club edition containing the Ladie...             7       4.03   \n",
       "1  To Kara's astonishment, she discovers that a p...             6       4.22   \n",
       "2                                                               60       4.33   \n",
       "3  This is the final tale in the bestselling auth...             1       4.04   \n",
       "4                                                               21       4.23   \n",
       "\n",
       "  ratings_count                                    popular_shelves  \\\n",
       "0           140  [{'count': '58', 'name': 'to-read'}, {'count':...   \n",
       "1            98  [{'count': '515', 'name': 'to-read'}, {'count'...   \n",
       "2           269  [{'count': '54', 'name': 'currently-reading'},...   \n",
       "3             4  [{'count': '1057', 'name': 'to-read'}, {'count...   \n",
       "4           149  [{'count': '598', 'name': 'to-read'}, {'count'...   \n",
       "\n",
       "                                            keywords language  \n",
       "0  [to-read, fantasy, fiction, owned, hardcover, ...      eng  \n",
       "1  [to-read, fantasy, owned, books-i-own, current...           \n",
       "2  [currently-reading, netgalley, kindle, read-20...      eng  \n",
       "3  [to-read, young-adult, ya, paranormal, fantasy...           \n",
       "4  [to-read, currently-reading, paranormal, shift...    en-US  "
      ]
     },
     "execution_count": 4,
     "metadata": {},
     "output_type": "execute_result"
    }
   ],
   "source": [
    "# Save books_list as a dataframe\n",
    "books = pd.DataFrame.from_dict(books_list)\n",
    "print(books.shape)\n",
    "books.head()"
   ]
  },
  {
   "cell_type": "markdown",
   "id": "4a5e98f6",
   "metadata": {},
   "source": [
    "# 2. Reducing and Cleaning the data\n",
    "* Only include english books\n",
    "* Remove null descriptions\n",
    "* Remove duplicates\n",
    "* Change data types"
   ]
  },
  {
   "cell_type": "code",
   "execution_count": 5,
   "id": "0d24bd0e",
   "metadata": {},
   "outputs": [
    {
     "data": {
      "text/plain": [
       "(216385, 10)"
      ]
     },
     "execution_count": 5,
     "metadata": {},
     "output_type": "execute_result"
    }
   ],
   "source": [
    "# Only include books that are in english (or unknown, as these may be english as well)\n",
    "language_list = ['eng', 'en', 'en-US','en-GB','']\n",
    "\n",
    "books = books[books['language'].isin(language_list)]\n",
    "books.shape"
   ]
  },
  {
   "cell_type": "code",
   "execution_count": 6,
   "id": "93db18ee",
   "metadata": {},
   "outputs": [
    {
     "data": {
      "text/plain": [
       "book_id                0\n",
       "author_id              2\n",
       "title                  0\n",
       "description        19060\n",
       "reviews_count          0\n",
       "avg_rating             0\n",
       "ratings_count          0\n",
       "popular_shelves        0\n",
       "keywords               0\n",
       "language               0\n",
       "dtype: int64"
      ]
     },
     "execution_count": 6,
     "metadata": {},
     "output_type": "execute_result"
    }
   ],
   "source": [
    "# Replace empty descriptions with NaN\n",
    "books['description'] = books['description'].replace('', np.nan)\n",
    "books.isna().sum()"
   ]
  },
  {
   "cell_type": "code",
   "execution_count": 7,
   "id": "d01743cd",
   "metadata": {},
   "outputs": [],
   "source": [
    "# Drop rows with missing values\n",
    "books = books.dropna()"
   ]
  },
  {
   "cell_type": "code",
   "execution_count": 8,
   "id": "5b73b7ae",
   "metadata": {},
   "outputs": [
    {
     "data": {
      "text/plain": [
       "False    130139\n",
       "True      67186\n",
       "dtype: int64"
      ]
     },
     "execution_count": 8,
     "metadata": {},
     "output_type": "execute_result"
    }
   ],
   "source": [
    "# Check for duplicates\n",
    "books.duplicated(subset=['title', 'author_id']).value_counts()"
   ]
  },
  {
   "cell_type": "code",
   "execution_count": 9,
   "id": "3765fe93",
   "metadata": {},
   "outputs": [
    {
     "data": {
      "text/plain": [
       "(130139, 10)"
      ]
     },
     "execution_count": 9,
     "metadata": {},
     "output_type": "execute_result"
    }
   ],
   "source": [
    "# Sort by highest rating count\n",
    "# Drop duplicates by title and author\n",
    "\n",
    "books_no_dup = books.sort_values(by='ratings_count', ascending=False)\\\n",
    "                    .drop_duplicates(subset=['title', 'author_id'], keep='first')\\\n",
    "                    .reset_index(drop=True)\n",
    "\n",
    "books_no_dup.shape"
   ]
  },
  {
   "cell_type": "code",
   "execution_count": 10,
   "id": "34de2115",
   "metadata": {},
   "outputs": [
    {
     "data": {
      "text/plain": [
       "False    120157\n",
       "True       9982\n",
       "dtype: int64"
      ]
     },
     "execution_count": 10,
     "metadata": {},
     "output_type": "execute_result"
    }
   ],
   "source": [
    "# Check for duplicated descriptions\n",
    "books_no_dup.duplicated(subset=['description']).value_counts()"
   ]
  },
  {
   "cell_type": "code",
   "execution_count": 11,
   "id": "53ea6ae0",
   "metadata": {},
   "outputs": [
    {
     "data": {
      "text/html": [
       "<div>\n",
       "<style scoped>\n",
       "    .dataframe tbody tr th:only-of-type {\n",
       "        vertical-align: middle;\n",
       "    }\n",
       "\n",
       "    .dataframe tbody tr th {\n",
       "        vertical-align: top;\n",
       "    }\n",
       "\n",
       "    .dataframe thead th {\n",
       "        text-align: right;\n",
       "    }\n",
       "</style>\n",
       "<table border=\"1\" class=\"dataframe\">\n",
       "  <thead>\n",
       "    <tr style=\"text-align: right;\">\n",
       "      <th></th>\n",
       "      <th>description</th>\n",
       "    </tr>\n",
       "  </thead>\n",
       "  <tbody>\n",
       "    <tr>\n",
       "      <th>This book was converted from its physical edition to the digital format by a community of volunteers. You may find it for free on the web. Purchase of the Kindle edition includes wireless delivery.</th>\n",
       "      <td>28</td>\n",
       "    </tr>\n",
       "    <tr>\n",
       "      <th>By falling down a rabbit hole and stepping through a mirror, Alice experiences unusual adventures with a variety of nonsensical characters.</th>\n",
       "      <td>21</td>\n",
       "    </tr>\n",
       "    <tr>\n",
       "      <th>Source of legend and lyric, reference and conjecture, Alice's Adventures in Wonderland is for most children pure pleasure in prose. While adults try to decipher Lewis Carroll's putative use of complex mathematical codes in the text, or debate his alleged use of opium, young readers simply dive with Alice through the rabbit hole, pursuing \"The dream-child moving through a land / Of wonders wild and new.\" There they encounter the White Rabbit, the Queen of Hearts, the Mock Turtle, and the Mad Hatter, among a multitude of other characters--extinct, fantastical, and commonplace creatures. Alice journeys through this Wonderland, trying to fathom the meaning of her strange experiences. But they turn out to be \"curiouser and curiouser,\" seemingly without moral or sense.\\nFor more than 130 years, children have reveled in the delightfully non-moralistic, non-educational virtues of this classic. In fact, at every turn, Alice's new companions scoff at her traditional education. The Mock Turtle, for example, remarks that he took the \"regular course\" in school: Reeling, Writhing, and branches of Arithmetic-Ambition, Distraction, Uglification, and Derision. Carroll believed John Tenniel's illustrations were as important as his text. Naturally, Carroll's instincts were good; the masterful drawings are inextricably tied to the well-loved story.</th>\n",
       "      <td>17</td>\n",
       "    </tr>\n",
       "    <tr>\n",
       "      <th>H. P. Lovecraft was one of the greatest horror writers of all time. His seminal work appeared in the pages of legendary Weird Tales and has influenced countless writer of the macabre. This is one of those stories.</th>\n",
       "      <td>16</td>\n",
       "    </tr>\n",
       "    <tr>\n",
       "      <th>They open a door and enter a world\\nNARNIA...the land beyond the wardrobe, the secret country known only to Peter, Susan, Edmund, and Lucy...the place where the adventure begins.\\nLucy is the first to find the secret of the wardrobe in the professor's mysterious old house. At first, no one believes her when she tells of her adventures in the land of Narnia. But soon Edmund and then Peter and Susan discover the Magic and meet Aslan, the Great Lion, for themselves. In the blink of an eye, their lives are changed forever.</th>\n",
       "      <td>16</td>\n",
       "    </tr>\n",
       "  </tbody>\n",
       "</table>\n",
       "</div>"
      ],
      "text/plain": [
       "                                                    description\n",
       "This book was converted from its physical editi...           28\n",
       "By falling down a rabbit hole and stepping thro...           21\n",
       "Source of legend and lyric, reference and conje...           17\n",
       "H. P. Lovecraft was one of the greatest horror ...           16\n",
       "They open a door and enter a world\\nNARNIA...th...           16"
      ]
     },
     "execution_count": 11,
     "metadata": {},
     "output_type": "execute_result"
    }
   ],
   "source": [
    "# Analyze duplcated descriptions\n",
    "books_no_dup['description'].value_counts().to_frame().query('description > 1').head()"
   ]
  },
  {
   "cell_type": "code",
   "execution_count": 12,
   "id": "7a7db753",
   "metadata": {},
   "outputs": [
    {
     "data": {
      "text/plain": [
       "(120157, 10)"
      ]
     },
     "execution_count": 12,
     "metadata": {},
     "output_type": "execute_result"
    }
   ],
   "source": [
    "# We will remove these duplicates in the same way as the title/author duplicates\n",
    "books_no_dup = books_no_dup.sort_values(by='ratings_count', ascending=False)\\\n",
    "                    .drop_duplicates(subset=['description'], keep='first')\\\n",
    "                    .reset_index(drop=True)\n",
    "\n",
    "books_no_dup.shape"
   ]
  },
  {
   "cell_type": "code",
   "execution_count": 13,
   "id": "7bd63ec8",
   "metadata": {},
   "outputs": [],
   "source": [
    "# Change data types\n",
    "books_no_dup = books_no_dup.astype({'reviews_count':int,\n",
    "                                    'avg_rating':float,\n",
    "                                    'ratings_count':int,\n",
    "                                    'author_id':int,\n",
    "                                    'book_id':int})"
   ]
  },
  {
   "cell_type": "code",
   "execution_count": 14,
   "id": "b669bfdc",
   "metadata": {},
   "outputs": [
    {
     "data": {
      "text/plain": [
       "(26686, 10)"
      ]
     },
     "execution_count": 14,
     "metadata": {},
     "output_type": "execute_result"
    }
   ],
   "source": [
    "# Subset books to include only popular books (rating count > 200)\n",
    "\n",
    "pop_books = books_no_dup.query('ratings_count > 200')\n",
    "pop_books.shape"
   ]
  },
  {
   "cell_type": "markdown",
   "id": "4b4862e0",
   "metadata": {},
   "source": [
    "# 3. Dealing with Popular Shelves and Genre Keywords"
   ]
  },
  {
   "cell_type": "code",
   "execution_count": 15,
   "id": "01560dc6",
   "metadata": {},
   "outputs": [
    {
     "data": {
      "text/html": [
       "<div>\n",
       "<style scoped>\n",
       "    .dataframe tbody tr th:only-of-type {\n",
       "        vertical-align: middle;\n",
       "    }\n",
       "\n",
       "    .dataframe tbody tr th {\n",
       "        vertical-align: top;\n",
       "    }\n",
       "\n",
       "    .dataframe thead th {\n",
       "        text-align: right;\n",
       "    }\n",
       "</style>\n",
       "<table border=\"1\" class=\"dataframe\">\n",
       "  <thead>\n",
       "    <tr style=\"text-align: right;\">\n",
       "      <th></th>\n",
       "      <th>popular_shelves</th>\n",
       "    </tr>\n",
       "  </thead>\n",
       "  <tbody>\n",
       "    <tr>\n",
       "      <th>0</th>\n",
       "      <td>[{'count': '15963', 'name': 'to-read'}, {'coun...</td>\n",
       "    </tr>\n",
       "    <tr>\n",
       "      <th>1</th>\n",
       "      <td>[{'count': '1085', 'name': 'to-read'}, {'count...</td>\n",
       "    </tr>\n",
       "    <tr>\n",
       "      <th>2</th>\n",
       "      <td>[{'count': '6558', 'name': 'to-read'}, {'count...</td>\n",
       "    </tr>\n",
       "    <tr>\n",
       "      <th>3</th>\n",
       "      <td>[{'count': '2081', 'name': 'to-read'}, {'count...</td>\n",
       "    </tr>\n",
       "    <tr>\n",
       "      <th>4</th>\n",
       "      <td>[{'count': '976', 'name': 'to-read'}, {'count'...</td>\n",
       "    </tr>\n",
       "    <tr>\n",
       "      <th>...</th>\n",
       "      <td>...</td>\n",
       "    </tr>\n",
       "    <tr>\n",
       "      <th>116924</th>\n",
       "      <td>[{'count': '49', 'name': 'to-read'}, {'count':...</td>\n",
       "    </tr>\n",
       "    <tr>\n",
       "      <th>116925</th>\n",
       "      <td>[{'count': '2736', 'name': 'to-read'}, {'count...</td>\n",
       "    </tr>\n",
       "    <tr>\n",
       "      <th>116926</th>\n",
       "      <td>[{'count': '643', 'name': 'to-read'}, {'count'...</td>\n",
       "    </tr>\n",
       "    <tr>\n",
       "      <th>116927</th>\n",
       "      <td>[{'count': '170', 'name': 'to-read'}, {'count'...</td>\n",
       "    </tr>\n",
       "    <tr>\n",
       "      <th>116928</th>\n",
       "      <td>[{'count': '1234', 'name': 'to-read'}, {'count...</td>\n",
       "    </tr>\n",
       "  </tbody>\n",
       "</table>\n",
       "<p>26686 rows × 1 columns</p>\n",
       "</div>"
      ],
      "text/plain": [
       "                                          popular_shelves\n",
       "0       [{'count': '15963', 'name': 'to-read'}, {'coun...\n",
       "1       [{'count': '1085', 'name': 'to-read'}, {'count...\n",
       "2       [{'count': '6558', 'name': 'to-read'}, {'count...\n",
       "3       [{'count': '2081', 'name': 'to-read'}, {'count...\n",
       "4       [{'count': '976', 'name': 'to-read'}, {'count'...\n",
       "...                                                   ...\n",
       "116924  [{'count': '49', 'name': 'to-read'}, {'count':...\n",
       "116925  [{'count': '2736', 'name': 'to-read'}, {'count...\n",
       "116926  [{'count': '643', 'name': 'to-read'}, {'count'...\n",
       "116927  [{'count': '170', 'name': 'to-read'}, {'count'...\n",
       "116928  [{'count': '1234', 'name': 'to-read'}, {'count...\n",
       "\n",
       "[26686 rows x 1 columns]"
      ]
     },
     "execution_count": 15,
     "metadata": {},
     "output_type": "execute_result"
    }
   ],
   "source": [
    "# Save popular shelves to new df\n",
    "shelves = pop_books['popular_shelves'].to_frame()\n",
    "shelves"
   ]
  },
  {
   "cell_type": "code",
   "execution_count": 16,
   "id": "b7fd9b67",
   "metadata": {},
   "outputs": [],
   "source": [
    "# Function to extract each shelf into a dataframe\n",
    "def dict_list_to_df(df, col):\n",
    "    \"\"\"Return a Pandas dataframe based on a column that contains a list of JSON objects or dictionaries.\n",
    "    Args:\n",
    "        df (Pandas dataframe): The dataframe to be flattened.\n",
    "        col (str): The name of the column that contains the JSON objects or dictionaries.\n",
    "    Returns:\n",
    "        Pandas dataframe: A new dataframe with the JSON objects or dictionaries expanded into columns.\n",
    "    \"\"\"\n",
    "\n",
    "    rows = []\n",
    "    for index, row in df[col].iteritems():\n",
    "        for item in row:\n",
    "            rows.append(item)\n",
    "    df = pd.DataFrame(rows)\n",
    "    return df"
   ]
  },
  {
   "cell_type": "code",
   "execution_count": 17,
   "id": "4486ca8a",
   "metadata": {},
   "outputs": [
    {
     "data": {
      "text/html": [
       "<div>\n",
       "<style scoped>\n",
       "    .dataframe tbody tr th:only-of-type {\n",
       "        vertical-align: middle;\n",
       "    }\n",
       "\n",
       "    .dataframe tbody tr th {\n",
       "        vertical-align: top;\n",
       "    }\n",
       "\n",
       "    .dataframe thead th {\n",
       "        text-align: right;\n",
       "    }\n",
       "</style>\n",
       "<table border=\"1\" class=\"dataframe\">\n",
       "  <thead>\n",
       "    <tr style=\"text-align: right;\">\n",
       "      <th></th>\n",
       "      <th>count</th>\n",
       "      <th>shelf</th>\n",
       "    </tr>\n",
       "  </thead>\n",
       "  <tbody>\n",
       "    <tr>\n",
       "      <th>0</th>\n",
       "      <td>15963</td>\n",
       "      <td>to-read</td>\n",
       "    </tr>\n",
       "    <tr>\n",
       "      <th>1</th>\n",
       "      <td>1090</td>\n",
       "      <td>fantasy</td>\n",
       "    </tr>\n",
       "    <tr>\n",
       "      <th>2</th>\n",
       "      <td>147</td>\n",
       "      <td>currently-reading</td>\n",
       "    </tr>\n",
       "    <tr>\n",
       "      <th>3</th>\n",
       "      <td>91</td>\n",
       "      <td>favorites</td>\n",
       "    </tr>\n",
       "    <tr>\n",
       "      <th>4</th>\n",
       "      <td>67</td>\n",
       "      <td>epic-fantasy</td>\n",
       "    </tr>\n",
       "  </tbody>\n",
       "</table>\n",
       "</div>"
      ],
      "text/plain": [
       "   count              shelf\n",
       "0  15963            to-read\n",
       "1   1090            fantasy\n",
       "2    147  currently-reading\n",
       "3     91          favorites\n",
       "4     67       epic-fantasy"
      ]
     },
     "execution_count": 17,
     "metadata": {},
     "output_type": "execute_result"
    }
   ],
   "source": [
    "# shelves_df will have repeated shelves, so we will do a value_counts() to get only the unique ones\n",
    "shelves_df = dict_list_to_df(shelves, 'popular_shelves')\n",
    "shelves_df.columns = ['count', 'shelf']\n",
    "shelves_df.head()"
   ]
  },
  {
   "cell_type": "code",
   "execution_count": 119,
   "id": "7ce8e55b",
   "metadata": {},
   "outputs": [
    {
     "data": {
      "text/html": [
       "<div>\n",
       "<style scoped>\n",
       "    .dataframe tbody tr th:only-of-type {\n",
       "        vertical-align: middle;\n",
       "    }\n",
       "\n",
       "    .dataframe tbody tr th {\n",
       "        vertical-align: top;\n",
       "    }\n",
       "\n",
       "    .dataframe thead th {\n",
       "        text-align: right;\n",
       "    }\n",
       "</style>\n",
       "<table border=\"1\" class=\"dataframe\">\n",
       "  <thead>\n",
       "    <tr style=\"text-align: right;\">\n",
       "      <th></th>\n",
       "      <th>shelf</th>\n",
       "      <th>count</th>\n",
       "    </tr>\n",
       "  </thead>\n",
       "  <tbody>\n",
       "    <tr>\n",
       "      <th>0</th>\n",
       "      <td>to-read</td>\n",
       "      <td>26592</td>\n",
       "    </tr>\n",
       "    <tr>\n",
       "      <th>1</th>\n",
       "      <td>currently-reading</td>\n",
       "      <td>25742</td>\n",
       "    </tr>\n",
       "    <tr>\n",
       "      <th>2</th>\n",
       "      <td>fantasy</td>\n",
       "      <td>25735</td>\n",
       "    </tr>\n",
       "    <tr>\n",
       "      <th>3</th>\n",
       "      <td>favorites</td>\n",
       "      <td>22128</td>\n",
       "    </tr>\n",
       "    <tr>\n",
       "      <th>4</th>\n",
       "      <td>owned</td>\n",
       "      <td>21658</td>\n",
       "    </tr>\n",
       "  </tbody>\n",
       "</table>\n",
       "</div>"
      ],
      "text/plain": [
       "               shelf  count\n",
       "0            to-read  26592\n",
       "1  currently-reading  25742\n",
       "2            fantasy  25735\n",
       "3          favorites  22128\n",
       "4              owned  21658"
      ]
     },
     "execution_count": 119,
     "metadata": {},
     "output_type": "execute_result"
    }
   ],
   "source": [
    "# df of all the unique shelves\n",
    "keywords_counts = shelves_df['shelf'].value_counts().to_frame().reset_index()\n",
    "keywords_counts.columns = ['shelf','count']\n",
    "keywords_counts.head()"
   ]
  },
  {
   "cell_type": "code",
   "execution_count": 120,
   "id": "e24fcdf4",
   "metadata": {},
   "outputs": [],
   "source": [
    "# Initial filtering\n",
    "# Dropping shelves that don't provide any useful keywords\n",
    "# Not the most efficient way to filter out the garbage, but it's a good start\n",
    "drop = ['fantasy','to-read', 'favorites','owned','ebooks', 'currently-reading','books-i-own','kindle','ebook',\n",
    "       'default','library','to-buy','owned-books','favourites','wish-list','my-books','e-book','my-library',\n",
    "       'ya','audiobook','audiobooks','read-in-2014','read-in-2015','m-m','i-own','pnr','read-in-2016','read-in-2013',\n",
    "       'middle-grade','novels','read-in-2012','mm','re-read','e-books','audible','dnf','maybe','have','favorite','5-stars',\n",
    "       'read-in-2017','own-it','books','m-m-romance','read-in-2011','did-not-finish','owned-to-read','diana-wynne-jones',\n",
    "       'to-read-fantasy','read-2012','mm-romance','read-2015','read-2016','favorite-series','part-of-a-series','audio-book',\n",
    "       'read-2014','read-in-2010','need-to-buy','borrowed','book-club','read-2017','shelfari-favorites','on-my-shelf',\n",
    "       'read-in-english','4-stars','kindle-books','first-in-series','audio-books','favorite-books','netgalley','favorite-books',\n",
    "       'reviewed','fae','tbr','english','reread','sff','nook','read-2013','sf','menage','free','kindle-lending-library',\n",
    "       'x-read_2005-2015','8th-grade','amazo-unlimited','a-shade-of-vampire','own-it-but-have-not-started-to-read',\n",
    "       'library-doesn-t-have-it','audio-only','warriors-books','male-protag','september-2017','books-for-review',\n",
    "       'books-on-my-shelf','might-read-1-day','web-novels','books-for-2016','a-chercher','pnr-scifi-fantasy','c-feehan',\n",
    "       '2-z01','blauer-punkt','owned-irl','i-own-these-books','fantasy-w-shelf','englisch','books-i-read-in-2016','released-in-2015',\n",
    "       'pre-goodreads-unhaul','bibliothèque','juv-fiction','m-m-bdsm','own-manga','riordan','first-in-series-spa',\n",
    "       'anthologies-collections','canadian-author','russian','uncategorized','series-part-of','catalog','save-for-october',\n",
    "       'loose-id','aventura','available-for-taking','graham-heather','pararom','series-first','1-fiction','easy-reading','tie-in-series',\n",
    "       'shelf-d-authors','first-reads','m-read','harem','books-i-have-ii','title_same-title','on-my-bookshelf','may-read',\n",
    "       'own-hardcover','epub','own-on-nook','to-read-library','nook-lendable','stand-alone-books','9p','what-mm-read','might-want-to-read',\n",
    "       'to-read-short-stories','scan','temp-shelf-sorting-queue','meaghan','standalones','my-favs','maybe-books','started',\n",
    "       'current-series','kindle-book','_-soft-copy','02-words-sb','purchased-but-not-read','genre','0-my-library','not-available-on-kindle',\n",
    "       'signed-books','2013-release','your-library','001-library','serie-volledig','2-series','01-kindle-books-that-i-own','hoarded-books',\n",
    "       'books-read-in-2014','kindle-unlimited-queue','can-t-wait-to-read','library-borrowed','print-books','read-first','read-for-school',\n",
    "       'good-books','zz-lost-interest-in','tbr-pile-owned','not-owned','blom-check','dl-pendientes','to-read-kindle-books',\n",
    "       'series-in-progress','2016-publication','our-books','to-read-on-kindle']\n",
    "\n",
    "keywords_counts = keywords_counts[~np.isin(keywords_counts['shelf'], drop)]"
   ]
  },
  {
   "cell_type": "code",
   "execution_count": 155,
   "id": "34e5a146",
   "metadata": {},
   "outputs": [
    {
     "data": {
      "text/plain": [
       "(4071, 2)"
      ]
     },
     "execution_count": 155,
     "metadata": {},
     "output_type": "execute_result"
    }
   ],
   "source": [
    "# We will subset the shelves by count\n",
    "# Brings us to 4071 shelves\n",
    "k = keywords_counts.query('count > 50')\n",
    "k.shape"
   ]
  },
  {
   "cell_type": "code",
   "execution_count": 156,
   "id": "4d56d4ba",
   "metadata": {},
   "outputs": [],
   "source": [
    "k = k.reset_index(drop=True)"
   ]
  },
  {
   "cell_type": "code",
   "execution_count": 157,
   "id": "dac960ed",
   "metadata": {},
   "outputs": [],
   "source": [
    "#Filter out shelves making specific words\n",
    "genre_regex = re.compile(r'^.*(book|to-|read|my-|favou?rite|own|audio|author|library|fiction|epub|authors|series|kindle|english|default|calibre|next|want|[0-9]|best).*$')\n",
    "filtered_list = [genre for genre in list(k['shelf']) if not re.search(genre_regex, genre)]\n",
    "k['shelf'] = k['shelf'].apply(lambda x: \" \".join([x for x in x.split() if x in filtered_list]))\n",
    "k['shelf'] = k['shelf'].replace('', np.nan).dropna()"
   ]
  },
  {
   "cell_type": "code",
   "execution_count": 160,
   "id": "015c5e5f",
   "metadata": {},
   "outputs": [],
   "source": [
    "# Make everything lowercase\n",
    "k['shelf'] = k['shelf'].apply(lambda x:' '.join(x.lower() for x in str(x).split()))\n",
    "\n",
    "# Remove dashes from words\n",
    "k['shelf'] = k['shelf'].apply(lambda x: x.replace('-',' '))\n",
    "\n",
    "# Remove any non-alphanumeric characters\n",
    "k['shelf'] = k['shelf'].apply(lambda x: '  '.join([re.sub('[^A-Za-z]+','', x) for x in nltk.word_tokenize(x)]))\n",
    "\n",
    "# Remove any single letters remaining\n",
    "k['shelf'] = k['shelf'].apply(lambda x: ' '.join([x for x in str(x).split() if len(x)>3]))\n",
    "\n",
    "# Remove stopwords\n",
    "stop = stopwords.words(\"english\")\n",
    "k['shelf'] = k['shelf'].apply(lambda x: \" \".join([x for x in x.split() if x not in stop]))"
   ]
  },
  {
   "cell_type": "code",
   "execution_count": 171,
   "id": "bc39d39d",
   "metadata": {},
   "outputs": [
    {
     "data": {
      "text/html": [
       "<div>\n",
       "<style scoped>\n",
       "    .dataframe tbody tr th:only-of-type {\n",
       "        vertical-align: middle;\n",
       "    }\n",
       "\n",
       "    .dataframe tbody tr th {\n",
       "        vertical-align: top;\n",
       "    }\n",
       "\n",
       "    .dataframe thead th {\n",
       "        text-align: right;\n",
       "    }\n",
       "</style>\n",
       "<table border=\"1\" class=\"dataframe\">\n",
       "  <thead>\n",
       "    <tr style=\"text-align: right;\">\n",
       "      <th></th>\n",
       "      <th>shelf</th>\n",
       "      <th>count</th>\n",
       "    </tr>\n",
       "  </thead>\n",
       "  <tbody>\n",
       "    <tr>\n",
       "      <th>2</th>\n",
       "      <td>paranormal</td>\n",
       "      <td>18138</td>\n",
       "    </tr>\n",
       "    <tr>\n",
       "      <th>3</th>\n",
       "      <td>romance</td>\n",
       "      <td>16511</td>\n",
       "    </tr>\n",
       "    <tr>\n",
       "      <th>4</th>\n",
       "      <td>magic</td>\n",
       "      <td>13945</td>\n",
       "    </tr>\n",
       "    <tr>\n",
       "      <th>5</th>\n",
       "      <td>supernatural</td>\n",
       "      <td>13245</td>\n",
       "    </tr>\n",
       "    <tr>\n",
       "      <th>6</th>\n",
       "      <td>urban fantasy</td>\n",
       "      <td>12023</td>\n",
       "    </tr>\n",
       "    <tr>\n",
       "      <th>...</th>\n",
       "      <td>...</td>\n",
       "      <td>...</td>\n",
       "    </tr>\n",
       "    <tr>\n",
       "      <th>4065</th>\n",
       "      <td>abilities</td>\n",
       "      <td>51</td>\n",
       "    </tr>\n",
       "    <tr>\n",
       "      <th>4066</th>\n",
       "      <td>shifters dragons</td>\n",
       "      <td>51</td>\n",
       "    </tr>\n",
       "    <tr>\n",
       "      <th>4067</th>\n",
       "      <td>supernatural</td>\n",
       "      <td>51</td>\n",
       "    </tr>\n",
       "    <tr>\n",
       "      <th>4068</th>\n",
       "      <td>shifter werewolf dragon</td>\n",
       "      <td>51</td>\n",
       "    </tr>\n",
       "    <tr>\n",
       "      <th>4069</th>\n",
       "      <td>cthulhu</td>\n",
       "      <td>51</td>\n",
       "    </tr>\n",
       "  </tbody>\n",
       "</table>\n",
       "<p>2156 rows × 2 columns</p>\n",
       "</div>"
      ],
      "text/plain": [
       "                        shelf  count\n",
       "2                  paranormal  18138\n",
       "3                     romance  16511\n",
       "4                       magic  13945\n",
       "5                supernatural  13245\n",
       "6               urban fantasy  12023\n",
       "...                       ...    ...\n",
       "4065                abilities     51\n",
       "4066         shifters dragons     51\n",
       "4067             supernatural     51\n",
       "4068  shifter werewolf dragon     51\n",
       "4069                  cthulhu     51\n",
       "\n",
       "[2156 rows x 2 columns]"
      ]
     },
     "execution_count": 171,
     "metadata": {},
     "output_type": "execute_result"
    }
   ],
   "source": [
    "# Drop nan shelves\n",
    "k['shelf'] = k['shelf'].replace('',np.nan)\n",
    "k = k.dropna()\n",
    "k"
   ]
  },
  {
   "cell_type": "code",
   "execution_count": 172,
   "id": "e8cd1271",
   "metadata": {},
   "outputs": [],
   "source": [
    "# More filtering\n",
    "drop2 = ['', 'series', 'warriors series','read','smexy','limbo unread','anthony piers','faves','books','check',\n",
    "         'hardcopy','buddy reads','nook books','paper books','owned read','book','home','could finish','authors',\n",
    "         'amazon kindle book','ebooks kindle','books read','read later','owned','favourite books','author','reader',\n",
    "         'reminder','goodreads','long series','great reads','feehan','release','found','type book','want read kindle',\n",
    "         'meine bcher','ebook owned','junk','ebook','cant find','owned books read','stand alone','english books','shelf authors',\n",
    "         'misc','fiction']\n",
    "k = k[~np.isin(k['shelf'], drop2)]"
   ]
  },
  {
   "cell_type": "code",
   "execution_count": 174,
   "id": "9481a6e8",
   "metadata": {},
   "outputs": [],
   "source": [
    "# Filtering our keywords created new duplicates, so we will drop those\n",
    "k = k.drop_duplicates(subset=['shelf'], keep='first').reset_index(drop=True)"
   ]
  },
  {
   "cell_type": "code",
   "execution_count": 175,
   "id": "2ff5e31b",
   "metadata": {},
   "outputs": [
    {
     "data": {
      "text/plain": [
       "urban              7\n",
       "high               5\n",
       "romance            5\n",
       "paranormal         4\n",
       "scifi              4\n",
       "                  ..\n",
       "otherworld         1\n",
       "blog tour          1\n",
       "talking animals    1\n",
       "didnt finish       1\n",
       "cthulhu            1\n",
       "Name: shelf, Length: 1710, dtype: int64"
      ]
     },
     "execution_count": 175,
     "metadata": {},
     "output_type": "execute_result"
    }
   ],
   "source": [
    "# Removing keywords from double/triple keywords (i.e paranormal fantasy, we would want to remove fantasy)\n",
    "k['shelf'] = k['shelf'].apply(lambda x: x.replace('fantasy',''))\n",
    "k['shelf'] = k['shelf'].apply(lambda x: x.replace('fiction',''))\n",
    "k['shelf'] = k['shelf'].apply(lambda x: x.replace('read',''))\n",
    "k['shelf'] = k['shelf'].apply(lambda x: x.replace('books',''))\n",
    "k['shelf'] = k['shelf'].apply(lambda x: x.replace('genre',''))\n",
    "k['shelf'] = k['shelf'].apply(lambda x: x.replace('series',''))\n",
    "k['shelf'] = k['shelf'].apply(lambda x: x.replace('owned',''))\n",
    "k['shelf'] = k['shelf'].apply(lambda x: \" \".join(x.split()))\n",
    "k['shelf'].value_counts()"
   ]
  },
  {
   "cell_type": "code",
   "execution_count": 176,
   "id": "5d109726",
   "metadata": {},
   "outputs": [
    {
     "data": {
      "text/html": [
       "<div>\n",
       "<style scoped>\n",
       "    .dataframe tbody tr th:only-of-type {\n",
       "        vertical-align: middle;\n",
       "    }\n",
       "\n",
       "    .dataframe tbody tr th {\n",
       "        vertical-align: top;\n",
       "    }\n",
       "\n",
       "    .dataframe thead th {\n",
       "        text-align: right;\n",
       "    }\n",
       "</style>\n",
       "<table border=\"1\" class=\"dataframe\">\n",
       "  <thead>\n",
       "    <tr style=\"text-align: right;\">\n",
       "      <th></th>\n",
       "      <th>shelf</th>\n",
       "      <th>count</th>\n",
       "    </tr>\n",
       "  </thead>\n",
       "  <tbody>\n",
       "    <tr>\n",
       "      <th>0</th>\n",
       "      <td>paranormal</td>\n",
       "      <td>18138</td>\n",
       "    </tr>\n",
       "    <tr>\n",
       "      <th>1</th>\n",
       "      <td>romance</td>\n",
       "      <td>16511</td>\n",
       "    </tr>\n",
       "    <tr>\n",
       "      <th>2</th>\n",
       "      <td>magic</td>\n",
       "      <td>13945</td>\n",
       "    </tr>\n",
       "    <tr>\n",
       "      <th>3</th>\n",
       "      <td>supernatural</td>\n",
       "      <td>13245</td>\n",
       "    </tr>\n",
       "    <tr>\n",
       "      <th>4</th>\n",
       "      <td>urban</td>\n",
       "      <td>12023</td>\n",
       "    </tr>\n",
       "    <tr>\n",
       "      <th>...</th>\n",
       "      <td>...</td>\n",
       "      <td>...</td>\n",
       "    </tr>\n",
       "    <tr>\n",
       "      <th>1705</th>\n",
       "      <td>tokyo</td>\n",
       "      <td>51</td>\n",
       "    </tr>\n",
       "    <tr>\n",
       "      <th>1706</th>\n",
       "      <td>abilities</td>\n",
       "      <td>51</td>\n",
       "    </tr>\n",
       "    <tr>\n",
       "      <th>1707</th>\n",
       "      <td>shifters dragons</td>\n",
       "      <td>51</td>\n",
       "    </tr>\n",
       "    <tr>\n",
       "      <th>1708</th>\n",
       "      <td>shifter werewolf dragon</td>\n",
       "      <td>51</td>\n",
       "    </tr>\n",
       "    <tr>\n",
       "      <th>1709</th>\n",
       "      <td>cthulhu</td>\n",
       "      <td>51</td>\n",
       "    </tr>\n",
       "  </tbody>\n",
       "</table>\n",
       "<p>1710 rows × 2 columns</p>\n",
       "</div>"
      ],
      "text/plain": [
       "                        shelf  count\n",
       "0                  paranormal  18138\n",
       "1                     romance  16511\n",
       "2                       magic  13945\n",
       "3                supernatural  13245\n",
       "4                       urban  12023\n",
       "...                       ...    ...\n",
       "1705                    tokyo     51\n",
       "1706                abilities     51\n",
       "1707         shifters dragons     51\n",
       "1708  shifter werewolf dragon     51\n",
       "1709                  cthulhu     51\n",
       "\n",
       "[1710 rows x 2 columns]"
      ]
     },
     "execution_count": 176,
     "metadata": {},
     "output_type": "execute_result"
    }
   ],
   "source": [
    "# More duplicates to get rid of\n",
    "k = k.drop_duplicates(subset=['shelf'], keep='first').reset_index(drop=True)\n",
    "k"
   ]
  },
  {
   "cell_type": "code",
   "execution_count": 177,
   "id": "5e229a87",
   "metadata": {},
   "outputs": [],
   "source": [
    "# Now we will create a column for the length of the string, to further filter the data\n",
    "k['length'] = k['shelf'].str.len()\n",
    "\n",
    "# Filter out keywords that are 3 or less characters\n",
    "k = k.query('length > 3')"
   ]
  },
  {
   "cell_type": "code",
   "execution_count": 178,
   "id": "1ea020e0",
   "metadata": {},
   "outputs": [
    {
     "data": {
      "text/plain": [
       "(1707, 3)"
      ]
     },
     "execution_count": 178,
     "metadata": {},
     "output_type": "execute_result"
    }
   ],
   "source": [
    "# We are down to 2245 keywords\n",
    "k.shape"
   ]
  },
  {
   "cell_type": "code",
   "execution_count": 179,
   "id": "ae59c0ad",
   "metadata": {
    "scrolled": false
   },
   "outputs": [
    {
     "data": {
      "text/html": [
       "<div>\n",
       "<style scoped>\n",
       "    .dataframe tbody tr th:only-of-type {\n",
       "        vertical-align: middle;\n",
       "    }\n",
       "\n",
       "    .dataframe tbody tr th {\n",
       "        vertical-align: top;\n",
       "    }\n",
       "\n",
       "    .dataframe thead th {\n",
       "        text-align: right;\n",
       "    }\n",
       "</style>\n",
       "<table border=\"1\" class=\"dataframe\">\n",
       "  <thead>\n",
       "    <tr style=\"text-align: right;\">\n",
       "      <th></th>\n",
       "      <th>shelf</th>\n",
       "      <th>count</th>\n",
       "      <th>length</th>\n",
       "    </tr>\n",
       "  </thead>\n",
       "  <tbody>\n",
       "    <tr>\n",
       "      <th>23</th>\n",
       "      <td>high</td>\n",
       "      <td>4194</td>\n",
       "      <td>4</td>\n",
       "    </tr>\n",
       "    <tr>\n",
       "      <th>24</th>\n",
       "      <td>teen</td>\n",
       "      <td>4049</td>\n",
       "      <td>4</td>\n",
       "    </tr>\n",
       "    <tr>\n",
       "      <th>32</th>\n",
       "      <td>epic</td>\n",
       "      <td>3178</td>\n",
       "      <td>4</td>\n",
       "    </tr>\n",
       "    <tr>\n",
       "      <th>40</th>\n",
       "      <td>need</td>\n",
       "      <td>2814</td>\n",
       "      <td>4</td>\n",
       "    </tr>\n",
       "    <tr>\n",
       "      <th>50</th>\n",
       "      <td>mine</td>\n",
       "      <td>2550</td>\n",
       "      <td>4</td>\n",
       "    </tr>\n",
       "    <tr>\n",
       "      <th>...</th>\n",
       "      <td>...</td>\n",
       "      <td>...</td>\n",
       "      <td>...</td>\n",
       "    </tr>\n",
       "    <tr>\n",
       "      <th>1645</th>\n",
       "      <td>lost</td>\n",
       "      <td>53</td>\n",
       "      <td>4</td>\n",
       "    </tr>\n",
       "    <tr>\n",
       "      <th>1668</th>\n",
       "      <td>mols</td>\n",
       "      <td>52</td>\n",
       "      <td>4</td>\n",
       "    </tr>\n",
       "    <tr>\n",
       "      <th>1671</th>\n",
       "      <td>dani</td>\n",
       "      <td>52</td>\n",
       "      <td>4</td>\n",
       "    </tr>\n",
       "    <tr>\n",
       "      <th>1680</th>\n",
       "      <td>bwwm</td>\n",
       "      <td>52</td>\n",
       "      <td>4</td>\n",
       "    </tr>\n",
       "    <tr>\n",
       "      <th>1701</th>\n",
       "      <td>shot</td>\n",
       "      <td>51</td>\n",
       "      <td>4</td>\n",
       "    </tr>\n",
       "  </tbody>\n",
       "</table>\n",
       "<p>126 rows × 3 columns</p>\n",
       "</div>"
      ],
      "text/plain": [
       "     shelf  count  length\n",
       "23    high   4194       4\n",
       "24    teen   4049       4\n",
       "32    epic   3178       4\n",
       "40    need   2814       4\n",
       "50    mine   2550       4\n",
       "...    ...    ...     ...\n",
       "1645  lost     53       4\n",
       "1668  mols     52       4\n",
       "1671  dani     52       4\n",
       "1680  bwwm     52       4\n",
       "1701  shot     51       4\n",
       "\n",
       "[126 rows x 3 columns]"
      ]
     },
     "execution_count": 179,
     "metadata": {},
     "output_type": "execute_result"
    }
   ],
   "source": [
    "# Let's look at keywords of length 4\n",
    "k.query('length == 4')"
   ]
  },
  {
   "cell_type": "code",
   "execution_count": 180,
   "id": "03ed8a89",
   "metadata": {},
   "outputs": [
    {
     "data": {
      "text/plain": [
       "(1609, 3)"
      ]
     },
     "execution_count": 180,
     "metadata": {},
     "output_type": "execute_result"
    }
   ],
   "source": [
    "# 4 letter keywords to drop\n",
    "drop3 = ['high','want','need','mine','must','helf',\n",
    "                'kobo','glbt','hold','star','gave','nope',\n",
    "                'pile','favs','next','done','arcs','vamp',\n",
    "                'free','para','copy','cute','male','sftr',\n",
    "                'sort','dual','deck','good','find','spec',\n",
    "                'play','ipad','disk','made','best','sold',\n",
    "                'mmpb','eeee','cozy','nook','preg','boys',\n",
    "                'e un','yaoi','sure','soon','long','temp','used',\n",
    "                'dont','plus','sets','hand','syfy','skip',\n",
    "                'epub','mobi','eown','safe','botb','okay',\n",
    "                'york','time','rick','poly''sale','mini',\n",
    "                'rvrs','like','mang','kick','asap','chic',\n",
    "                'sifi','list','wish','book','xlam','paul','edit','film','sell',\n",
    "                'spin','year','ones','real','btvs','wise','filt','comp','rate','easy',\n",
    "                'test','wait','back','gone','fave','king','look','fant','date','gift',\n",
    "                'fsrc','alex','illo','ebay','ccpl','july','carl','keep','june','owns',\n",
    "                'hugo','less','lion','lire','pern','blue','hero','pets','mate','home',\n",
    "                'food','scfi','lost','mols','dani','bwwm','shot']\n",
    "\n",
    "k = k[~np.isin(k['shelf'], drop3)]\n",
    "k.shape"
   ]
  },
  {
   "cell_type": "code",
   "execution_count": 181,
   "id": "877be588",
   "metadata": {},
   "outputs": [],
   "source": [
    "# More manual filtering\n",
    "drop4 = ['audio','paperback','kindle unlimited','kindle','finished','freebies','freebie','amazon','stars','interested',\n",
    "        'shelfari wishlist','owned','purchased','part series','favorite authors','short','library book','completed series',\n",
    "        'kindle freebie','digital','kindle freebies','kindle lendable','series','maybe','recommended',' bought','finish',\n",
    "        'female author','series finish','kindle owned','next series','owned kindle','ebook wishlist','unowned want',\n",
    "        'favourite','woody want','barnes noble','nook book','checked','recent e','mott nypl','download','save later',\n",
    "        'absolute favorites','pending','someday','bella forrest','daddy dark baby warrior list','pending kindle free ebook',\n",
    "        'personal collection','process review','serie','softcover','goods authors','general','pratchett terry','kenyon sherrilyn',\n",
    "        'kindle trove','fantastyka','punya','book form','fantastik kurgu','language english','kindle lending',\n",
    "        'full pile','january','downloaded sample','reviews','incomplete','bcherregal','temporary storage','downloaded',\n",
    "        'highly recommended', 'wishing list','priscilla','terry bolryder','collections','published','free book','syfi horr',\n",
    "        'bookcrossing','maybes','interesting','previously','lackey mercedes','gooood','kindle un','kindle lendables']\n",
    "\n",
    "k = k[~np.isin(k['shelf'], drop2)]"
   ]
  },
  {
   "cell_type": "code",
   "execution_count": 182,
   "id": "4c3184cb",
   "metadata": {},
   "outputs": [
    {
     "data": {
      "text/plain": [
       "(1562, 3)"
      ]
     },
     "execution_count": 182,
     "metadata": {},
     "output_type": "execute_result"
    }
   ],
   "source": [
    "k.shape"
   ]
  },
  {
   "cell_type": "code",
   "execution_count": 191,
   "id": "7841954a",
   "metadata": {},
   "outputs": [],
   "source": [
    "# We will not get all the unique words and save it as a new data frame\n",
    "# Shelves with multiple words (i.e. horror supernatural fantasy) will be put into separate rows\n",
    "# This will help reduce the size of the keywords\n",
    "unique_words = k['shelf'].str.split(' ').explode().value_counts().rename_axis('genre').reset_index(name='count')"
   ]
  },
  {
   "cell_type": "code",
   "execution_count": 212,
   "id": "7317ed95",
   "metadata": {},
   "outputs": [
    {
     "data": {
      "text/plain": [
       "1254"
      ]
     },
     "execution_count": 212,
     "metadata": {},
     "output_type": "execute_result"
    }
   ],
   "source": [
    "#We have 1254 unique words\n",
    "len(unique_words)"
   ]
  },
  {
   "cell_type": "code",
   "execution_count": 203,
   "id": "1e6f0b9f",
   "metadata": {},
   "outputs": [],
   "source": [
    "# We will manually go through the rest of the keywords, and delete the ones we don't want\n",
    "k1 = list(unique_words['genre'][:500])\n",
    "k2 = list(unique_words['genre'][500:1000])\n",
    "k3 = list(unique_words['genre'][1000:])"
   ]
  },
  {
   "cell_type": "code",
   "execution_count": 204,
   "id": "a334b281",
   "metadata": {},
   "outputs": [],
   "source": [
    "keep1 = ['romance','paranormal','manga','shifters','shifter','love','adult','mystery','supernatural',\n",
    " 'comics','suspense','magic','horror','thriller','short','female','fairy','hero','witches',\n",
    " 'young','urban','werewolf','erotica','vampire','tales','time','heroine','alternate','angels','world','dragon',\n",
    " 'school','male','vampires','dragons','werewolves','alpha','scifi','women','strong','teen','children',\n",
    " 'action','contemporary','mates','angel','demons','creatures','shapeshifters','mangas',\n",
    " 'game','japanese','powers','apocalyptic','wizards','light','space','retellings','cozy',\n",
    " 'games','weres','historical','wolf','dystopian','later','dark','witch','super','bear',\n",
    " 'kickass','forgotten','ghost','fairytales','comic','physical','magical','epic','childhood','lust',\n",
    " 'shapeshifter','anthology','erotic','crime','mythology','novellas','novella','retold',\n",
    " 'travel','badass','omnibus','apocalypse','buffy','faerie','feline','shonen','psychic',\n",
    " 'retelling','guilty','shoujo','abilities','mccaffrey','yaoi','greek','star',\n",
    " 'stars','worlds','sexy','realms','dragonlance','folklore','animal','drive',\n",
    " 'dungeons','life','virgin','siren','heroines','shojo','alien','armstrong','high',\n",
    " 'sword','aliens','history','american','gods','ghosts','fairytale','shorts','family',\n",
    " 'mysteries','childrens','romantic','shape','futuristic','funny','anime','wolves','demon',\n",
    " 'sorcery','tale','vamps','shounen','mythical','anthologies','dirty','fantasia','classics','alternative',\n",
    " 'cthulhu','mythos','universe','superpowers','german','heroes','royalty','canada','america',\n",
    " 'holy','warrior','nostalgia','mermaids','fantacy','interracial','hunters','military','elementary','arthurian',\n",
    " 'myths','swords','ultimate','roleplaying','lesbian','omega','haunted','lgbt','laugh',\n",
    " 'marriage','drama','bdsm','paranomal','dreamspinner','comedy','emotional','relationships','hunter','dead','mage',\n",
    " 'sagas','faery','girl','cave','arthur','king','reality','thrillers','murder','british','animals','sweet',\n",
    " 'opera','modern','beautiful','alice','teens','cheating','pregnancy','zombie','adventure',\n",
    " 'legends','gothic','protagonist','classic','immortals','pleasure','furry','gender','detective','japan','realism',\n",
    " 'elemental','romances','cats','future','possessive','wizard','political','saucy',\n",
    " 'threesome','brothers','warhammer','epics','grief','coverblue','flights','mars','guardians',\n",
    " 'bearshifters','disaster','mental','illness','girls','howlin','superheros','warewolves','nobility','dystopias','metaphysical','buffyverse','crossbreeding',\n",
    " 'russia','captive','timetravel','multicultural','laser','worldbuilding','slayer','journey','couples','hanger','scorching',\n",
    " 'ladies','bender','younger','distopia','teenage','disney','duology','djinn','tolkien','cowboy',\n",
    " 'tracking','romanceparanormal','predictable','otherworldly','afterlife','slaves','spicy','swashbuckling','native','werebears','inspirational',\n",
    " 'adolescent','couple','shorty','rejected','irish','torture','california','druids','gelesen','protective','cloud',\n",
    " 'spirit','korean','chinese','bikers','wicca','dress','rulers','bound','nephilim','parody',\n",
    " 'biography','earth','conspiracy','christianity','mangashoujo','portadasqueamo','unique','limbo','intense','bareback','kingdoms']"
   ]
  },
  {
   "cell_type": "code",
   "execution_count": 206,
   "id": "b77eadba",
   "metadata": {},
   "outputs": [],
   "source": [
    "keep2 = ['samhain','orleans','france','forgottenrealms','virtual','taboo','television','tear','psychology',\n",
    " 'dogs','polyamory','surreal','changeling','tokyopop','species','portal','dresden','parallel',\n",
    " 'dragonlace','gargoyle','rowling','adaptation','menage','abused','heather','graham','omegaverse',\n",
    " 'immortality','sports','banker','gaiman','foreign','steaming','hell','spirits','dwarves','dreams','shapeshifting',\n",
    " 'thief','protector','hate','enjoyable','germany','orange','spanking','supers','lawyer','professional','curses',\n",
    " 'indies','necromancy','alphas','scottish','fire','spies','wings','culture','forthcoming','ages',\n",
    " 'pasts','breed','apocolypse','painful','egypt','wereanimal','penguin','china','criticism','garage','nature',\n",
    " 'traditional','protagonists','suspence','issues','wereanimals','true','sassy','computer','leisure','companions','alchemy',\n",
    " 'chills','thrills','detectives','cinderella','inmortales','lord','rings','succubus','loud','spanish',\n",
    " 'wonderland','historic','norse','sirens','sorcerers','language','mature','pararomance','australia','bullying','bodyguard','antihero','bisexual',\n",
    " 'essays','diskworld','mate','mount','romane','videogames','britain','humans','graphics',\n",
    " 'faith','dimension','vikings','goblins','diverse','rich','folks','goddesses','holiday','bears',\n",
    " 'spooky','fantastique','grimdark','politics','princesses','boarding','challenge','diversity','psychological',\n",
    " 'litrpg','fantastic','vaginal','electronic','forbidden','hotness','translation','satire','pirates',\n",
    " 'halloween','fantastical','hoarding','soulmates','christmas','superhero','kidnapped','werewolfs','superheroes','soul',\n",
    " 'natural','scary','hilarious','philosophy','asia','otherworld','power','rpgs','western',\n",
    " 'werebear','reincarnation','brain','immortal','angsty','noir','london','movies','twins','tree','romantica','candy','slash',\n",
    " 'abduction','unnaturally','princess','mages','holding','sounds','basement','music','vampiros','mythological','canadian','poetry',\n",
    " 'pleasures','males','steamy','death','england','elves','speculative','monsters','religion','angst','survival','lgbtq',\n",
    " 'trilogy','trilogies','faeries','humor','abandoned','kids','science','dystopia','juvenile','humour','chick','fairies','friendship','youth',\n",
    " 'steampunk','abuse','humorous','triangle','lost','zombies','smut','medieval','queer','assassins','heroic','steam','witchy',\n",
    " 'victorian','tween','psychics','occult','reverse','harem','punk','illustrated','adults','damaged','partners','christian','tortured','enforcement',\n",
    " 'amazing','kidnapping','pulp','college','warriors','violence','considering','gaming','assassin']"
   ]
  },
  {
   "cell_type": "code",
   "execution_count": 208,
   "id": "3b669ba0",
   "metadata": {},
   "outputs": [],
   "source": [
    "keep3 = ['adventures','allegory','amnesia','anthropomorphic','arts','asian','baby','beast','beauty','betrayal','billionaire','black','boulder','celtic','cheese','chicklit','child',\n",
    " 'comfort','cops','cowboys','cozies','creepy','cultural','curious','cyberpunk','dangerzoned','destined','deutsch',\n",
    " 'difference','disability','discworld','distopian','elementals','espionage','europe','evil','feminism','feminist',\n",
    " 'fighter','fighting','fluffy','french','friends','gang','gargoyles','gayrom','grit','gritty','harlequin','highlander','highlanders','holidays',\n",
    " 'hoopla','horses','humble','hurt','imaginary','indonesian','insanity','ireland','kink','kinky','knights','legend','living',\n",
    " 'lovecraft','lovecraftian','magicians','magick','martial','memories','mercedes','mermaid','movie','mystical','myth','necromancer',\n",
    " 'novela','orphans','pagan','period','police','poly','pregnant','present','preternatural','pretty','private','protectors','quest','quirky',\n",
    " 'rape','reapers','regency','religious','revenge','roman','romans','room','royals','safety','scotland',\n",
    " 'secrets','sequential','sexual','siblings','sisters','slave','slavery','southern','spiritual','spirituality','states','tattoos',\n",
    " 'telepathy','terror','thieves','tokyo','tragedy','triangles','undead','unicorns','united','violent','warlocks','werecats','witchcraft']"
   ]
  },
  {
   "cell_type": "code",
   "execution_count": 210,
   "id": "979e7bf7",
   "metadata": {},
   "outputs": [
    {
     "data": {
      "text/plain": [
       "688"
      ]
     },
     "execution_count": 210,
     "metadata": {},
     "output_type": "execute_result"
    }
   ],
   "source": [
    "final_keywords = keep1 + keep2 + keep3\n",
    "len(final_keywords)"
   ]
  },
  {
   "cell_type": "code",
   "execution_count": 358,
   "id": "c28bb7c3",
   "metadata": {
    "scrolled": true
   },
   "outputs": [],
   "source": [
    "books = pop_books[['book_id','title','description','keywords']]"
   ]
  },
  {
   "cell_type": "code",
   "execution_count": 359,
   "id": "a91c1572",
   "metadata": {},
   "outputs": [],
   "source": [
    "# Make everything lowercase\n",
    "books['keywords'] = books['keywords'].apply(lambda x:' '.join(x.lower() for x in str(x).split()))\n",
    "\n",
    "# Remove dashes from words\n",
    "books['keywords'] = books['keywords'].apply(lambda x: x.replace('-',' '))\n",
    "\n",
    "# Remove any non-alphanumeric characters\n",
    "books['keywords'] = books['keywords'].apply(lambda x: '  '.join([re.sub('[^A-Za-z]+','', x) for x in nltk.word_tokenize(x)]))\n",
    "\n",
    "# Remove any single letters remaining\n",
    "books['keywords'] = books['keywords'].apply(lambda x: ' '.join([x for x in str(x).split() if len(x)>3]))\n",
    "\n",
    "# Remove stopwords\n",
    "stop = stopwords.words(\"english\")\n",
    "books['keywords'] = books['keywords'].apply(lambda x: \" \".join([x for x in x.split() if x not in stop]))\n",
    "\n",
    "# FINALLY remove words not in our final keywords list\n",
    "books['keywords'] = books['keywords'].apply(lambda x: \" \".join([x for x in x.split() if x in final_keywords]))\n",
    "\n",
    "# Duplicate words from keywords\n",
    "from collections import OrderedDict\n",
    "books['keywords'] = books['keywords'].str.split().apply(lambda x: OrderedDict.fromkeys(x).keys()).str.join(' ')"
   ]
  },
  {
   "cell_type": "markdown",
   "id": "2a521084",
   "metadata": {},
   "source": [
    "# 4. Cleaning Description Column"
   ]
  },
  {
   "cell_type": "code",
   "execution_count": 360,
   "id": "db3f8c96",
   "metadata": {},
   "outputs": [],
   "source": [
    "# Make everything lowercase\n",
    "books['description'] = books['description'].apply(lambda x:' '.join(x.lower() for x in str(x).split()))\n",
    "\n",
    "# Remove contractions\n",
    "books['description'] = books['description'].apply(lambda x: contractions.fix(x))\n",
    "\n",
    "# Remove dashes from words\n",
    "books['description'] = books['description'].replace('-',' ')\n",
    "\n",
    "# Remove any non-alphanumeric characters\n",
    "books['description']=books['description'].apply(lambda x: ' '.join([re.sub('[^A-Za-z]+','', x) for x in nltk.word_tokenize(x)]))\n",
    "\n",
    "# Remove any single letters remaining\n",
    "books['description']=books['description'].apply(lambda x: ' '.join([x for x in str(x).split() if len(x)>1]))\n",
    "\n",
    "# Remove stopwords\n",
    "stop = stopwords.words(\"english\")\n",
    "books['description']=books['description'].apply(lambda x: \" \".join([x for x in x.split() if x not in stop]))"
   ]
  },
  {
   "cell_type": "code",
   "execution_count": 363,
   "id": "f44c0670",
   "metadata": {},
   "outputs": [
    {
     "data": {
      "text/html": [
       "<div>\n",
       "<style scoped>\n",
       "    .dataframe tbody tr th:only-of-type {\n",
       "        vertical-align: middle;\n",
       "    }\n",
       "\n",
       "    .dataframe tbody tr th {\n",
       "        vertical-align: top;\n",
       "    }\n",
       "\n",
       "    .dataframe thead th {\n",
       "        text-align: right;\n",
       "    }\n",
       "</style>\n",
       "<table border=\"1\" class=\"dataframe\">\n",
       "  <thead>\n",
       "    <tr style=\"text-align: right;\">\n",
       "      <th></th>\n",
       "      <th>book_id</th>\n",
       "      <th>title</th>\n",
       "      <th>description</th>\n",
       "      <th>keywords</th>\n",
       "    </tr>\n",
       "  </thead>\n",
       "  <tbody>\n",
       "    <tr>\n",
       "      <th>0</th>\n",
       "      <td>8801543</td>\n",
       "      <td>among thieves (tales of the kin, #1)</td>\n",
       "      <td>drothe member kin years rubbing elbows thieves...</td>\n",
       "      <td>epic dark thieves adventure high urban magic a...</td>\n",
       "    </tr>\n",
       "    <tr>\n",
       "      <th>1</th>\n",
       "      <td>17457124</td>\n",
       "      <td>red hill (red hill, #1)</td>\n",
       "      <td>world ends love survive scarlet raising two da...</td>\n",
       "      <td>zombies horror romance adult paranormal dystop...</td>\n",
       "    </tr>\n",
       "    <tr>\n",
       "      <th>2</th>\n",
       "      <td>24999067</td>\n",
       "      <td>bohemian gospel (bohemian gospel #1)</td>\n",
       "      <td>set historical reign golden iron king bohemian...</td>\n",
       "      <td>historical mystery medieval magic adult romanc...</td>\n",
       "    </tr>\n",
       "    <tr>\n",
       "      <th>3</th>\n",
       "      <td>22717558</td>\n",
       "      <td>kodiak's claim (kodiak point, #1)</td>\n",
       "      <td>might growl afraid bite hands full taking care...</td>\n",
       "      <td>paranormal shifters romance shifter shapeshift...</td>\n",
       "    </tr>\n",
       "    <tr>\n",
       "      <th>4</th>\n",
       "      <td>450203</td>\n",
       "      <td>the evil seed</td>\n",
       "      <td>something inside remembers never easy face fac...</td>\n",
       "      <td>horror vampires gothic contemporary urban myst...</td>\n",
       "    </tr>\n",
       "    <tr>\n",
       "      <th>...</th>\n",
       "      <td>...</td>\n",
       "      <td>...</td>\n",
       "      <td>...</td>\n",
       "      <td>...</td>\n",
       "    </tr>\n",
       "    <tr>\n",
       "      <th>116924</th>\n",
       "      <td>8029972</td>\n",
       "      <td>our world (the dresden files roleplaying game,...</td>\n",
       "      <td>volume dresden files rpg gives extensive detai...</td>\n",
       "      <td>rpgs gaming roleplaying dresden games game vam...</td>\n",
       "    </tr>\n",
       "    <tr>\n",
       "      <th>116925</th>\n",
       "      <td>11215073</td>\n",
       "      <td>all hallows (the morganville vampires, #6.6)</td>\n",
       "      <td>eve michael shane claire go eek party one year...</td>\n",
       "      <td>vampires young adult short vampire paranormal ...</td>\n",
       "    </tr>\n",
       "    <tr>\n",
       "      <th>116926</th>\n",
       "      <td>16080833</td>\n",
       "      <td>fighter (outsider, #3)</td>\n",
       "      <td>first outsider became insider going fighter no...</td>\n",
       "      <td>romance werewolves young adult paranormal supe...</td>\n",
       "    </tr>\n",
       "    <tr>\n",
       "      <th>116927</th>\n",
       "      <td>13438641</td>\n",
       "      <td>the sorcerer's vengeance (the sorcerer's path,...</td>\n",
       "      <td>book sorcerer path azerick thought finally fou...</td>\n",
       "      <td>magic epic high science challenge considering ...</td>\n",
       "    </tr>\n",
       "    <tr>\n",
       "      <th>116928</th>\n",
       "      <td>12973051</td>\n",
       "      <td>beswitched (beswitched, #1)</td>\n",
       "      <td>surla cathy huge secret spending hundreds year...</td>\n",
       "      <td>young adult paranormal romance witches magic s...</td>\n",
       "    </tr>\n",
       "  </tbody>\n",
       "</table>\n",
       "<p>26686 rows × 4 columns</p>\n",
       "</div>"
      ],
      "text/plain": [
       "         book_id                                              title  \\\n",
       "0        8801543               among thieves (tales of the kin, #1)   \n",
       "1       17457124                            red hill (red hill, #1)   \n",
       "2       24999067               bohemian gospel (bohemian gospel #1)   \n",
       "3       22717558                  kodiak's claim (kodiak point, #1)   \n",
       "4         450203                                      the evil seed   \n",
       "...          ...                                                ...   \n",
       "116924   8029972  our world (the dresden files roleplaying game,...   \n",
       "116925  11215073       all hallows (the morganville vampires, #6.6)   \n",
       "116926  16080833                             fighter (outsider, #3)   \n",
       "116927  13438641  the sorcerer's vengeance (the sorcerer's path,...   \n",
       "116928  12973051                        beswitched (beswitched, #1)   \n",
       "\n",
       "                                              description  \\\n",
       "0       drothe member kin years rubbing elbows thieves...   \n",
       "1       world ends love survive scarlet raising two da...   \n",
       "2       set historical reign golden iron king bohemian...   \n",
       "3       might growl afraid bite hands full taking care...   \n",
       "4       something inside remembers never easy face fac...   \n",
       "...                                                   ...   \n",
       "116924  volume dresden files rpg gives extensive detai...   \n",
       "116925  eve michael shane claire go eek party one year...   \n",
       "116926  first outsider became insider going fighter no...   \n",
       "116927  book sorcerer path azerick thought finally fou...   \n",
       "116928  surla cathy huge secret spending hundreds year...   \n",
       "\n",
       "                                                 keywords  \n",
       "0       epic dark thieves adventure high urban magic a...  \n",
       "1       zombies horror romance adult paranormal dystop...  \n",
       "2       historical mystery medieval magic adult romanc...  \n",
       "3       paranormal shifters romance shifter shapeshift...  \n",
       "4       horror vampires gothic contemporary urban myst...  \n",
       "...                                                   ...  \n",
       "116924  rpgs gaming roleplaying dresden games game vam...  \n",
       "116925  vampires young adult short vampire paranormal ...  \n",
       "116926  romance werewolves young adult paranormal supe...  \n",
       "116927  magic epic high science challenge considering ...  \n",
       "116928  young adult paranormal romance witches magic s...  \n",
       "\n",
       "[26686 rows x 4 columns]"
      ]
     },
     "execution_count": 363,
     "metadata": {},
     "output_type": "execute_result"
    }
   ],
   "source": [
    "books"
   ]
  },
  {
   "cell_type": "markdown",
   "id": "360bc9e6",
   "metadata": {},
   "source": [
    "# 5. Cleaning Title Columns"
   ]
  },
  {
   "cell_type": "code",
   "execution_count": 362,
   "id": "89045a39",
   "metadata": {},
   "outputs": [],
   "source": [
    "# Make everything lowercase\n",
    "books['title'] = books['title'].apply(lambda x:' '.join(x.lower() for x in str(x).split()))"
   ]
  },
  {
   "cell_type": "code",
   "execution_count": 398,
   "id": "6d80529c",
   "metadata": {},
   "outputs": [],
   "source": [
    "# Drop boxsets and collections\n",
    "mask = books['title'].str.contains('boxset|box set|boxed set|collection|edition|volumes set|companion')\n",
    "books = books[~mask].reset_index(drop=True)"
   ]
  },
  {
   "cell_type": "code",
   "execution_count": 399,
   "id": "081e863e",
   "metadata": {},
   "outputs": [
    {
     "data": {
      "text/html": [
       "<div>\n",
       "<style scoped>\n",
       "    .dataframe tbody tr th:only-of-type {\n",
       "        vertical-align: middle;\n",
       "    }\n",
       "\n",
       "    .dataframe tbody tr th {\n",
       "        vertical-align: top;\n",
       "    }\n",
       "\n",
       "    .dataframe thead th {\n",
       "        text-align: right;\n",
       "    }\n",
       "</style>\n",
       "<table border=\"1\" class=\"dataframe\">\n",
       "  <thead>\n",
       "    <tr style=\"text-align: right;\">\n",
       "      <th></th>\n",
       "      <th>book_id</th>\n",
       "      <th>title</th>\n",
       "      <th>description</th>\n",
       "      <th>keywords</th>\n",
       "      <th>features</th>\n",
       "    </tr>\n",
       "  </thead>\n",
       "  <tbody>\n",
       "    <tr>\n",
       "      <th>0</th>\n",
       "      <td>8801543</td>\n",
       "      <td>among thieves</td>\n",
       "      <td>drothe member kin years rubbing elbows thieves...</td>\n",
       "      <td>epic dark thieves adventure high urban magic a...</td>\n",
       "      <td>drothe member kin years rubbing elbows thieves...</td>\n",
       "    </tr>\n",
       "    <tr>\n",
       "      <th>1</th>\n",
       "      <td>17457124</td>\n",
       "      <td>red hill</td>\n",
       "      <td>world ends love survive scarlet raising two da...</td>\n",
       "      <td>zombies horror romance adult paranormal dystop...</td>\n",
       "      <td>world ends love survive scarlet raising two da...</td>\n",
       "    </tr>\n",
       "    <tr>\n",
       "      <th>2</th>\n",
       "      <td>24999067</td>\n",
       "      <td>bohemian gospel</td>\n",
       "      <td>set historical reign golden iron king bohemian...</td>\n",
       "      <td>historical mystery medieval magic adult romanc...</td>\n",
       "      <td>set historical reign golden iron king bohemian...</td>\n",
       "    </tr>\n",
       "    <tr>\n",
       "      <th>3</th>\n",
       "      <td>22717558</td>\n",
       "      <td>kodiak's claim</td>\n",
       "      <td>might growl afraid bite hands full taking care...</td>\n",
       "      <td>paranormal shifters romance shifter shapeshift...</td>\n",
       "      <td>might growl afraid bite hands full taking care...</td>\n",
       "    </tr>\n",
       "    <tr>\n",
       "      <th>4</th>\n",
       "      <td>450203</td>\n",
       "      <td>the evil seed</td>\n",
       "      <td>something inside remembers never easy face fac...</td>\n",
       "      <td>horror vampires gothic contemporary urban myst...</td>\n",
       "      <td>something inside remembers never easy face fac...</td>\n",
       "    </tr>\n",
       "  </tbody>\n",
       "</table>\n",
       "</div>"
      ],
      "text/plain": [
       "    book_id            title  \\\n",
       "0   8801543    among thieves   \n",
       "1  17457124         red hill   \n",
       "2  24999067  bohemian gospel   \n",
       "3  22717558   kodiak's claim   \n",
       "4    450203    the evil seed   \n",
       "\n",
       "                                         description  \\\n",
       "0  drothe member kin years rubbing elbows thieves...   \n",
       "1  world ends love survive scarlet raising two da...   \n",
       "2  set historical reign golden iron king bohemian...   \n",
       "3  might growl afraid bite hands full taking care...   \n",
       "4  something inside remembers never easy face fac...   \n",
       "\n",
       "                                            keywords  \\\n",
       "0  epic dark thieves adventure high urban magic a...   \n",
       "1  zombies horror romance adult paranormal dystop...   \n",
       "2  historical mystery medieval magic adult romanc...   \n",
       "3  paranormal shifters romance shifter shapeshift...   \n",
       "4  horror vampires gothic contemporary urban myst...   \n",
       "\n",
       "                                            features  \n",
       "0  drothe member kin years rubbing elbows thieves...  \n",
       "1  world ends love survive scarlet raising two da...  \n",
       "2  set historical reign golden iron king bohemian...  \n",
       "3  might growl afraid bite hands full taking care...  \n",
       "4  something inside remembers never easy face fac...  "
      ]
     },
     "execution_count": 399,
     "metadata": {},
     "output_type": "execute_result"
    }
   ],
   "source": [
    "# Remove paraentheses from book titles\n",
    "books['title'] = books['title'].str.replace(r' \\(.*\\)','',  regex=True)\n",
    "books.head()"
   ]
  },
  {
   "cell_type": "markdown",
   "id": "662954c7",
   "metadata": {},
   "source": [
    "# 6. Cosine Similarity"
   ]
  },
  {
   "cell_type": "code",
   "execution_count": 400,
   "id": "95243b39",
   "metadata": {},
   "outputs": [],
   "source": [
    "books['features'] = books['description'] + books['keywords']"
   ]
  },
  {
   "cell_type": "code",
   "execution_count": 401,
   "id": "b0e5ad70",
   "metadata": {},
   "outputs": [],
   "source": [
    "# There are still duplicate titles\n",
    "books = books.drop_duplicates(subset=['title'], keep='first').reset_index(drop=True)"
   ]
  },
  {
   "cell_type": "code",
   "execution_count": 408,
   "id": "99d1fb08",
   "metadata": {},
   "outputs": [
    {
     "data": {
      "text/plain": [
       "(23682, 7679)"
      ]
     },
     "execution_count": 408,
     "metadata": {},
     "output_type": "execute_result"
    }
   ],
   "source": [
    "tfidf = TfidfVectorizer(min_df=25, max_df=0.90)\n",
    "tfidf_matrix = tfidf.fit_transform(books['features'])\n",
    "tfidf_matrix = tfidf_matrix.astype(np.float32)\n",
    "tfidf_matrix.shape"
   ]
  },
  {
   "cell_type": "code",
   "execution_count": 409,
   "id": "4dcfbcc8",
   "metadata": {},
   "outputs": [],
   "source": [
    "tfidf_matrix = tfidf_matrix.toarray()\n",
    "cos = cosine_similarity(tfidf_matrix, tfidf_matrix)"
   ]
  },
  {
   "cell_type": "code",
   "execution_count": 410,
   "id": "d081e823",
   "metadata": {},
   "outputs": [
    {
     "data": {
      "text/plain": [
       "title\n",
       "death in the beginning    15241\n",
       "everlasting desire         4382\n",
       "nick of time               8555\n",
       "lessons                   13501\n",
       "a spell for chameleon     15294\n",
       "dtype: int64"
      ]
     },
     "execution_count": 410,
     "metadata": {},
     "output_type": "execute_result"
    }
   ],
   "source": [
    "# Saving the indices of book titles, we will need this to retrieve book titles\n",
    "indices = pd.Series(books.index, index=books['title'])\n",
    "indices.sample(5)"
   ]
  },
  {
   "cell_type": "code",
   "execution_count": 443,
   "id": "7f4adc95",
   "metadata": {},
   "outputs": [],
   "source": [
    "# Let's try it out on a sample book\n",
    "sample_book = indices['the hobbit']\n",
    "similarity_scores = pd.DataFrame(cos[sample_book], columns=[\"score\"]).sort_values(by='score', ascending=False)\n",
    "recs = similarity_scores.query('score < 0.40').head(10)"
   ]
  },
  {
   "cell_type": "code",
   "execution_count": 444,
   "id": "bfeed585",
   "metadata": {},
   "outputs": [
    {
     "data": {
      "text/html": [
       "<div>\n",
       "<style scoped>\n",
       "    .dataframe tbody tr th:only-of-type {\n",
       "        vertical-align: middle;\n",
       "    }\n",
       "\n",
       "    .dataframe tbody tr th {\n",
       "        vertical-align: top;\n",
       "    }\n",
       "\n",
       "    .dataframe thead th {\n",
       "        text-align: right;\n",
       "    }\n",
       "</style>\n",
       "<table border=\"1\" class=\"dataframe\">\n",
       "  <thead>\n",
       "    <tr style=\"text-align: right;\">\n",
       "      <th></th>\n",
       "      <th>title</th>\n",
       "      <th>features</th>\n",
       "    </tr>\n",
       "  </thead>\n",
       "  <tbody>\n",
       "    <tr>\n",
       "      <th>13042</th>\n",
       "      <td>the silmarillion: the epic history of the elve...</td>\n",
       "      <td>alternate cover art isbnclassics tolkien high ...</td>\n",
       "    </tr>\n",
       "    <tr>\n",
       "      <th>16960</th>\n",
       "      <td>the hobbit, or, there and back again</td>\n",
       "      <td>hole ground lived hobbit nasty dirty wet hole ...</td>\n",
       "    </tr>\n",
       "    <tr>\n",
       "      <th>21455</th>\n",
       "      <td>the magical worlds of lord of the rings: the a...</td>\n",
       "      <td>nightmare key tolkien mythology gandalf really...</td>\n",
       "    </tr>\n",
       "    <tr>\n",
       "      <th>20584</th>\n",
       "      <td>the history of the lord of the rings</td>\n",
       "      <td>jrr tolkien lord rings firmly acknowledged one...</td>\n",
       "    </tr>\n",
       "    <tr>\n",
       "      <th>1060</th>\n",
       "      <td>splintered light: logos and language in tolkie...</td>\n",
       "      <td>tolkien perhaps best known hobbit lord rings s...</td>\n",
       "    </tr>\n",
       "    <tr>\n",
       "      <th>21869</th>\n",
       "      <td>the lost road and other writings</td>\n",
       "      <td>editor christopher tolkien satisfies hunger fa...</td>\n",
       "    </tr>\n",
       "    <tr>\n",
       "      <th>907</th>\n",
       "      <td>the lord of the rings</td>\n",
       "      <td>continuing story hobbit threevolume boxed set ...</td>\n",
       "    </tr>\n",
       "    <tr>\n",
       "      <th>3457</th>\n",
       "      <td>the hobbit, or there and back again</td>\n",
       "      <td>bilbo baggins reasonably typical hobbit fond s...</td>\n",
       "    </tr>\n",
       "    <tr>\n",
       "      <th>21146</th>\n",
       "      <td>the shaping of middle-earth</td>\n",
       "      <td>fourth volume contains early myths legends led...</td>\n",
       "    </tr>\n",
       "    <tr>\n",
       "      <th>7788</th>\n",
       "      <td>reader and educator guide to \"the hobbit\" and ...</td>\n",
       "      <td>hobbitand lord ringsare widely read beloved bo...</td>\n",
       "    </tr>\n",
       "  </tbody>\n",
       "</table>\n",
       "</div>"
      ],
      "text/plain": [
       "                                                   title  \\\n",
       "13042  the silmarillion: the epic history of the elve...   \n",
       "16960               the hobbit, or, there and back again   \n",
       "21455  the magical worlds of lord of the rings: the a...   \n",
       "20584               the history of the lord of the rings   \n",
       "1060   splintered light: logos and language in tolkie...   \n",
       "21869                   the lost road and other writings   \n",
       "907                                the lord of the rings   \n",
       "3457                 the hobbit, or there and back again   \n",
       "21146                        the shaping of middle-earth   \n",
       "7788   reader and educator guide to \"the hobbit\" and ...   \n",
       "\n",
       "                                                features  \n",
       "13042  alternate cover art isbnclassics tolkien high ...  \n",
       "16960  hole ground lived hobbit nasty dirty wet hole ...  \n",
       "21455  nightmare key tolkien mythology gandalf really...  \n",
       "20584  jrr tolkien lord rings firmly acknowledged one...  \n",
       "1060   tolkien perhaps best known hobbit lord rings s...  \n",
       "21869  editor christopher tolkien satisfies hunger fa...  \n",
       "907    continuing story hobbit threevolume boxed set ...  \n",
       "3457   bilbo baggins reasonably typical hobbit fond s...  \n",
       "21146  fourth volume contains early myths legends led...  \n",
       "7788   hobbitand lord ringsare widely read beloved bo...  "
      ]
     },
     "execution_count": 444,
     "metadata": {},
     "output_type": "execute_result"
    }
   ],
   "source": [
    "# Now we can retrieve the title and description of the books similar to our sample book\n",
    "\n",
    "similar_movies_indices = list(recs.index)\n",
    "books[['title','features']].iloc[similar_movies_indices]"
   ]
  },
  {
   "cell_type": "code",
   "execution_count": null,
   "id": "53c5686e",
   "metadata": {},
   "outputs": [],
   "source": []
  }
 ],
 "metadata": {
  "kernelspec": {
   "display_name": "Python 3 (ipykernel)",
   "language": "python",
   "name": "python3"
  },
  "language_info": {
   "codemirror_mode": {
    "name": "ipython",
    "version": 3
   },
   "file_extension": ".py",
   "mimetype": "text/x-python",
   "name": "python",
   "nbconvert_exporter": "python",
   "pygments_lexer": "ipython3",
   "version": "3.9.7"
  }
 },
 "nbformat": 4,
 "nbformat_minor": 5
}
